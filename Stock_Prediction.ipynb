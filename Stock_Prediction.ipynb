{
  "nbformat": 4,
  "nbformat_minor": 0,
  "metadata": {
    "colab": {
      "name": "Stock Prediction.ipynb",
      "version": "0.3.2",
      "provenance": [],
      "collapsed_sections": []
    },
    "kernelspec": {
      "name": "python3",
      "display_name": "Python 3"
    },
    "accelerator": "GPU"
  },
  "cells": [
    {
      "cell_type": "markdown",
      "metadata": {
        "id": "view-in-github",
        "colab_type": "text"
      },
      "source": [
        "[View in Colaboratory](https://colab.research.google.com/github/karangautam/Learning-Samples/blob/master/Stock_Prediction.ipynb)"
      ]
    },
    {
      "metadata": {
        "id": "I0RgTFTZLVOX",
        "colab_type": "code",
        "colab": {
          "base_uri": "https://localhost:8080/",
          "height": 34
        },
        "outputId": "c9cc7ed9-7675-4f2d-9348-108625df7409"
      },
      "cell_type": "code",
      "source": [
        "import numpy as np\n",
        "import pandas as pd\n",
        "from pandas import datetime\n",
        "import math, time\n",
        "import itertools\n",
        "from sklearn import preprocessing\n",
        "import datetime\n",
        "from operator import itemgetter\n",
        "from sklearn.metrics import mean_squared_error\n",
        "from math import sqrt\n",
        "from keras.models import Sequential\n",
        "from keras.layers.core import Dense, Dropout, Activation\n",
        "from keras.layers.recurrent import LSTM"
      ],
      "execution_count": 1,
      "outputs": [
        {
          "output_type": "stream",
          "text": [
            "Using TensorFlow backend.\n"
          ],
          "name": "stderr"
        }
      ]
    },
    {
      "metadata": {
        "id": "T1gmWjq1Lsoa",
        "colab_type": "code",
        "colab": {
          "base_uri": "https://localhost:8080/",
          "height": 759
        },
        "outputId": "d15efe7f-ff03-4db1-8435-09c283e294dd"
      },
      "cell_type": "code",
      "source": [
        "!pip install quandl"
      ],
      "execution_count": 2,
      "outputs": [
        {
          "output_type": "stream",
          "text": [
            "Collecting quandl\n",
            "  Downloading https://files.pythonhosted.org/packages/47/8c/b61f5c1e9167f4c1c1c2b86991bbbac51a2bd937b36cbc4cc39248dfb2d1/Quandl-3.3.0-py2.py3-none-any.whl\n",
            "Requirement already satisfied: pyasn1 in /usr/local/lib/python3.6/dist-packages (from quandl) (0.4.2)\n",
            "Requirement already satisfied: requests>=2.7.0 in /usr/local/lib/python3.6/dist-packages (from quandl) (2.18.4)\n",
            "Collecting inflection>=0.3.1 (from quandl)\n",
            "  Downloading https://files.pythonhosted.org/packages/d5/35/a6eb45b4e2356fe688b21570864d4aa0d0a880ce387defe9c589112077f8/inflection-0.3.1.tar.gz\n",
            "Requirement already satisfied: six in /usr/local/lib/python3.6/dist-packages (from quandl) (1.11.0)\n",
            "Collecting more-itertools (from quandl)\n",
            "\u001b[?25l  Downloading https://files.pythonhosted.org/packages/7a/46/886917c6a4ce49dd3fff250c01c5abac5390d57992751384fe61befc4877/more_itertools-4.1.0-py3-none-any.whl (47kB)\n",
            "\u001b[K    100% |████████████████████████████████| 51kB 3.5MB/s \n",
            "\u001b[?25hCollecting ndg-httpsclient (from quandl)\n",
            "  Downloading https://files.pythonhosted.org/packages/78/60/1458ed478eb5777498ca57f4fabf2cf9328ac43e5f6db7839cf73704f3a6/ndg_httpsclient-0.5.0-py3-none-any.whl\n",
            "Requirement already satisfied: pandas>=0.14 in /usr/local/lib/python3.6/dist-packages (from quandl) (0.22.0)\n",
            "Collecting pyOpenSSL (from quandl)\n",
            "\u001b[?25l  Downloading https://files.pythonhosted.org/packages/96/af/9d29e6bd40823061aea2e0574ccb2fcf72bfd6130ce53d32773ec375458c/pyOpenSSL-18.0.0-py2.py3-none-any.whl (53kB)\n",
            "\u001b[K    100% |████████████████████████████████| 61kB 8.1MB/s \n",
            "\u001b[?25hRequirement already satisfied: numpy>=1.8 in /usr/local/lib/python3.6/dist-packages (from quandl) (1.14.3)\n",
            "Requirement already satisfied: python-dateutil in /usr/local/lib/python3.6/dist-packages (from quandl) (2.5.3)\n",
            "Requirement already satisfied: idna<2.7,>=2.5 in /usr/local/lib/python3.6/dist-packages (from requests>=2.7.0->quandl) (2.6)\n",
            "Requirement already satisfied: chardet<3.1.0,>=3.0.2 in /usr/local/lib/python3.6/dist-packages (from requests>=2.7.0->quandl) (3.0.4)\n",
            "Requirement already satisfied: urllib3<1.23,>=1.21.1 in /usr/local/lib/python3.6/dist-packages (from requests>=2.7.0->quandl) (1.22)\n",
            "Requirement already satisfied: certifi>=2017.4.17 in /usr/local/lib/python3.6/dist-packages (from requests>=2.7.0->quandl) (2018.4.16)\n",
            "Requirement already satisfied: pytz>=2011k in /usr/local/lib/python3.6/dist-packages (from pandas>=0.14->quandl) (2018.4)\n",
            "Collecting cryptography>=2.2.1 (from pyOpenSSL->quandl)\n",
            "\u001b[?25l  Downloading https://files.pythonhosted.org/packages/fa/f4/3cde3604972dfa2b0fea85b9711948bb4fb70ab64095322aef35071bd254/cryptography-2.2.2-cp34-abi3-manylinux1_x86_64.whl (2.2MB)\n",
            "\u001b[K    100% |████████████████████████████████| 2.2MB 4.3MB/s \n",
            "\u001b[?25hCollecting asn1crypto>=0.21.0 (from cryptography>=2.2.1->pyOpenSSL->quandl)\n",
            "\u001b[?25l  Downloading https://files.pythonhosted.org/packages/ea/cd/35485615f45f30a510576f1a56d1e0a7ad7bd8ab5ed7cdc600ef7cd06222/asn1crypto-0.24.0-py2.py3-none-any.whl (101kB)\n",
            "\u001b[K    100% |████████████████████████████████| 102kB 18.4MB/s \n",
            "\u001b[?25hCollecting cffi>=1.7; platform_python_implementation != \"PyPy\" (from cryptography>=2.2.1->pyOpenSSL->quandl)\n",
            "\u001b[?25l  Downloading https://files.pythonhosted.org/packages/6d/c0/47db8f624f3e4e2f3f27be03a93379d1ba16a1450a7b1aacfa0366e2c0dd/cffi-1.11.5-cp36-cp36m-manylinux1_x86_64.whl (421kB)\n",
            "\u001b[K    100% |████████████████████████████████| 430kB 15.8MB/s \n",
            "\u001b[?25hCollecting pycparser (from cffi>=1.7; platform_python_implementation != \"PyPy\"->cryptography>=2.2.1->pyOpenSSL->quandl)\n",
            "\u001b[?25l  Downloading https://files.pythonhosted.org/packages/8c/2d/aad7f16146f4197a11f8e91fb81df177adcc2073d36a17b1491fd09df6ed/pycparser-2.18.tar.gz (245kB)\n",
            "\u001b[K    100% |████████████████████████████████| 256kB 9.7MB/s \n",
            "\u001b[?25hBuilding wheels for collected packages: inflection, pycparser\n",
            "  Running setup.py bdist_wheel for inflection ... \u001b[?25l-\b \bdone\n",
            "\u001b[?25h  Stored in directory: /content/.cache/pip/wheels/9f/5a/d3/6fc3bf6516d2a3eb7e18f9f28b472110b59325f3f258fe9211\n",
            "  Running setup.py bdist_wheel for pycparser ... \u001b[?25l-\b \b\\\b \bdone\n",
            "\u001b[?25h  Stored in directory: /content/.cache/pip/wheels/c0/a1/27/5ba234bd77ea5a290cbf6d675259ec52293193467a12ef1f46\n",
            "Successfully built inflection pycparser\n",
            "Installing collected packages: inflection, more-itertools, asn1crypto, pycparser, cffi, cryptography, pyOpenSSL, ndg-httpsclient, quandl\n",
            "Successfully installed asn1crypto-0.24.0 cffi-1.11.5 cryptography-2.2.2 inflection-0.3.1 more-itertools-4.1.0 ndg-httpsclient-0.5.0 pyOpenSSL-18.0.0 pycparser-2.18 quandl-3.3.0\n"
          ],
          "name": "stdout"
        }
      ]
    },
    {
      "metadata": {
        "id": "tFtmU7aQLvgy",
        "colab_type": "code",
        "colab": {}
      },
      "cell_type": "code",
      "source": [
        "import quandl"
      ],
      "execution_count": 0,
      "outputs": []
    },
    {
      "metadata": {
        "id": "x0MF9__PL0WM",
        "colab_type": "code",
        "colab": {}
      },
      "cell_type": "code",
      "source": [
        "%matplotlib inline"
      ],
      "execution_count": 0,
      "outputs": []
    },
    {
      "metadata": {
        "id": "DjgEEa9ZL20P",
        "colab_type": "code",
        "colab": {}
      },
      "cell_type": "code",
      "source": [
        "import matplotlib"
      ],
      "execution_count": 0,
      "outputs": []
    },
    {
      "metadata": {
        "id": "Zsjd7pFHL5SP",
        "colab_type": "code",
        "colab": {}
      },
      "cell_type": "code",
      "source": [
        "df= quandl.get(\"NSE/EICHERMOT\", authtoken=\"obPP_aQ1Kb_VcadQf39P\")"
      ],
      "execution_count": 0,
      "outputs": []
    },
    {
      "metadata": {
        "id": "IvLMJD_aL7p1",
        "colab_type": "code",
        "colab": {
          "base_uri": "https://localhost:8080/",
          "height": 225
        },
        "outputId": "ad077a43-5f9a-4f32-85ea-178e81705605"
      },
      "cell_type": "code",
      "source": [
        "df.head()"
      ],
      "execution_count": 7,
      "outputs": [
        {
          "output_type": "execute_result",
          "data": {
            "text/html": [
              "<div>\n",
              "<style scoped>\n",
              "    .dataframe tbody tr th:only-of-type {\n",
              "        vertical-align: middle;\n",
              "    }\n",
              "\n",
              "    .dataframe tbody tr th {\n",
              "        vertical-align: top;\n",
              "    }\n",
              "\n",
              "    .dataframe thead th {\n",
              "        text-align: right;\n",
              "    }\n",
              "</style>\n",
              "<table border=\"1\" class=\"dataframe\">\n",
              "  <thead>\n",
              "    <tr style=\"text-align: right;\">\n",
              "      <th></th>\n",
              "      <th>Open</th>\n",
              "      <th>High</th>\n",
              "      <th>Low</th>\n",
              "      <th>Last</th>\n",
              "      <th>Close</th>\n",
              "      <th>Total Trade Quantity</th>\n",
              "      <th>Turnover (Lacs)</th>\n",
              "    </tr>\n",
              "    <tr>\n",
              "      <th>Date</th>\n",
              "      <th></th>\n",
              "      <th></th>\n",
              "      <th></th>\n",
              "      <th></th>\n",
              "      <th></th>\n",
              "      <th></th>\n",
              "      <th></th>\n",
              "    </tr>\n",
              "  </thead>\n",
              "  <tbody>\n",
              "    <tr>\n",
              "      <th>1998-03-20</th>\n",
              "      <td>11.30</td>\n",
              "      <td>12.20</td>\n",
              "      <td>11.3</td>\n",
              "      <td>NaN</td>\n",
              "      <td>NaN</td>\n",
              "      <td>NaN</td>\n",
              "      <td>NaN</td>\n",
              "    </tr>\n",
              "    <tr>\n",
              "      <th>1998-03-24</th>\n",
              "      <td>12.15</td>\n",
              "      <td>12.15</td>\n",
              "      <td>11.3</td>\n",
              "      <td>11.30</td>\n",
              "      <td>11.40</td>\n",
              "      <td>5000.0</td>\n",
              "      <td>0.58</td>\n",
              "    </tr>\n",
              "    <tr>\n",
              "      <th>1998-03-25</th>\n",
              "      <td>12.00</td>\n",
              "      <td>12.55</td>\n",
              "      <td>12.0</td>\n",
              "      <td>12.35</td>\n",
              "      <td>12.35</td>\n",
              "      <td>3500.0</td>\n",
              "      <td>0.43</td>\n",
              "    </tr>\n",
              "    <tr>\n",
              "      <th>1998-03-26</th>\n",
              "      <td>13.50</td>\n",
              "      <td>13.50</td>\n",
              "      <td>12.7</td>\n",
              "      <td>12.75</td>\n",
              "      <td>12.75</td>\n",
              "      <td>4500.0</td>\n",
              "      <td>0.58</td>\n",
              "    </tr>\n",
              "    <tr>\n",
              "      <th>1998-03-27</th>\n",
              "      <td>12.50</td>\n",
              "      <td>12.80</td>\n",
              "      <td>12.5</td>\n",
              "      <td>12.75</td>\n",
              "      <td>12.75</td>\n",
              "      <td>3100.0</td>\n",
              "      <td>0.40</td>\n",
              "    </tr>\n",
              "  </tbody>\n",
              "</table>\n",
              "</div>"
            ],
            "text/plain": [
              "             Open   High   Low   Last  Close  Total Trade Quantity  \\\n",
              "Date                                                                 \n",
              "1998-03-20  11.30  12.20  11.3    NaN    NaN                   NaN   \n",
              "1998-03-24  12.15  12.15  11.3  11.30  11.40                5000.0   \n",
              "1998-03-25  12.00  12.55  12.0  12.35  12.35                3500.0   \n",
              "1998-03-26  13.50  13.50  12.7  12.75  12.75                4500.0   \n",
              "1998-03-27  12.50  12.80  12.5  12.75  12.75                3100.0   \n",
              "\n",
              "            Turnover (Lacs)  \n",
              "Date                         \n",
              "1998-03-20              NaN  \n",
              "1998-03-24             0.58  \n",
              "1998-03-25             0.43  \n",
              "1998-03-26             0.58  \n",
              "1998-03-27             0.40  "
            ]
          },
          "metadata": {
            "tags": []
          },
          "execution_count": 7
        }
      ]
    },
    {
      "metadata": {
        "id": "80ySSE5KL-Ah",
        "colab_type": "code",
        "colab": {}
      },
      "cell_type": "code",
      "source": [
        "df=df.dropna()"
      ],
      "execution_count": 0,
      "outputs": []
    },
    {
      "metadata": {
        "id": "2gt6tI1uMCIF",
        "colab_type": "code",
        "colab": {
          "base_uri": "https://localhost:8080/",
          "height": 225
        },
        "outputId": "f9aac411-155e-47f9-d43e-7705d8718261"
      },
      "cell_type": "code",
      "source": [
        "df.head()"
      ],
      "execution_count": 9,
      "outputs": [
        {
          "output_type": "execute_result",
          "data": {
            "text/html": [
              "<div>\n",
              "<style scoped>\n",
              "    .dataframe tbody tr th:only-of-type {\n",
              "        vertical-align: middle;\n",
              "    }\n",
              "\n",
              "    .dataframe tbody tr th {\n",
              "        vertical-align: top;\n",
              "    }\n",
              "\n",
              "    .dataframe thead th {\n",
              "        text-align: right;\n",
              "    }\n",
              "</style>\n",
              "<table border=\"1\" class=\"dataframe\">\n",
              "  <thead>\n",
              "    <tr style=\"text-align: right;\">\n",
              "      <th></th>\n",
              "      <th>Open</th>\n",
              "      <th>High</th>\n",
              "      <th>Low</th>\n",
              "      <th>Last</th>\n",
              "      <th>Close</th>\n",
              "      <th>Total Trade Quantity</th>\n",
              "      <th>Turnover (Lacs)</th>\n",
              "    </tr>\n",
              "    <tr>\n",
              "      <th>Date</th>\n",
              "      <th></th>\n",
              "      <th></th>\n",
              "      <th></th>\n",
              "      <th></th>\n",
              "      <th></th>\n",
              "      <th></th>\n",
              "      <th></th>\n",
              "    </tr>\n",
              "  </thead>\n",
              "  <tbody>\n",
              "    <tr>\n",
              "      <th>1998-03-24</th>\n",
              "      <td>12.15</td>\n",
              "      <td>12.15</td>\n",
              "      <td>11.3</td>\n",
              "      <td>11.30</td>\n",
              "      <td>11.40</td>\n",
              "      <td>5000.0</td>\n",
              "      <td>0.58</td>\n",
              "    </tr>\n",
              "    <tr>\n",
              "      <th>1998-03-25</th>\n",
              "      <td>12.00</td>\n",
              "      <td>12.55</td>\n",
              "      <td>12.0</td>\n",
              "      <td>12.35</td>\n",
              "      <td>12.35</td>\n",
              "      <td>3500.0</td>\n",
              "      <td>0.43</td>\n",
              "    </tr>\n",
              "    <tr>\n",
              "      <th>1998-03-26</th>\n",
              "      <td>13.50</td>\n",
              "      <td>13.50</td>\n",
              "      <td>12.7</td>\n",
              "      <td>12.75</td>\n",
              "      <td>12.75</td>\n",
              "      <td>4500.0</td>\n",
              "      <td>0.58</td>\n",
              "    </tr>\n",
              "    <tr>\n",
              "      <th>1998-03-27</th>\n",
              "      <td>12.50</td>\n",
              "      <td>12.80</td>\n",
              "      <td>12.5</td>\n",
              "      <td>12.75</td>\n",
              "      <td>12.75</td>\n",
              "      <td>3100.0</td>\n",
              "      <td>0.40</td>\n",
              "    </tr>\n",
              "    <tr>\n",
              "      <th>1998-03-30</th>\n",
              "      <td>13.00</td>\n",
              "      <td>13.20</td>\n",
              "      <td>12.5</td>\n",
              "      <td>12.50</td>\n",
              "      <td>12.70</td>\n",
              "      <td>2900.0</td>\n",
              "      <td>0.37</td>\n",
              "    </tr>\n",
              "  </tbody>\n",
              "</table>\n",
              "</div>"
            ],
            "text/plain": [
              "             Open   High   Low   Last  Close  Total Trade Quantity  \\\n",
              "Date                                                                 \n",
              "1998-03-24  12.15  12.15  11.3  11.30  11.40                5000.0   \n",
              "1998-03-25  12.00  12.55  12.0  12.35  12.35                3500.0   \n",
              "1998-03-26  13.50  13.50  12.7  12.75  12.75                4500.0   \n",
              "1998-03-27  12.50  12.80  12.5  12.75  12.75                3100.0   \n",
              "1998-03-30  13.00  13.20  12.5  12.50  12.70                2900.0   \n",
              "\n",
              "            Turnover (Lacs)  \n",
              "Date                         \n",
              "1998-03-24             0.58  \n",
              "1998-03-25             0.43  \n",
              "1998-03-26             0.58  \n",
              "1998-03-27             0.40  \n",
              "1998-03-30             0.37  "
            ]
          },
          "metadata": {
            "tags": []
          },
          "execution_count": 9
        }
      ]
    },
    {
      "metadata": {
        "id": "WoWQSHfQMEFc",
        "colab_type": "code",
        "colab": {}
      },
      "cell_type": "code",
      "source": [
        "cl= df['Close']"
      ],
      "execution_count": 0,
      "outputs": []
    },
    {
      "metadata": {
        "id": "NTYuOKRgMHiz",
        "colab_type": "code",
        "colab": {
          "base_uri": "https://localhost:8080/",
          "height": 134
        },
        "outputId": "07c71c0b-dddb-493d-9280-3fc7a1d76a18"
      },
      "cell_type": "code",
      "source": [
        "cl.tail()"
      ],
      "execution_count": 11,
      "outputs": [
        {
          "output_type": "execute_result",
          "data": {
            "text/plain": [
              "Date\n",
              "2018-05-15    30772.85\n",
              "2018-05-16    30565.70\n",
              "2018-05-17    30495.95\n",
              "2018-05-18    30086.20\n",
              "2018-05-21    29432.90\n",
              "Name: Close, dtype: float64"
            ]
          },
          "metadata": {
            "tags": []
          },
          "execution_count": 11
        }
      ]
    },
    {
      "metadata": {
        "id": "qE3hQFlLMJeR",
        "colab_type": "code",
        "colab": {
          "base_uri": "https://localhost:8080/",
          "height": 188
        },
        "outputId": "6beb71df-d4e8-45cf-dd14-4ea5f000b17e"
      },
      "cell_type": "code",
      "source": [
        "from sklearn.preprocessing import MinMaxScaler\n",
        "scl = MinMaxScaler()\n",
        "#Scale the data\n",
        "cl = cl.reshape(cl.shape[0],1)\n",
        "cl = scl.fit_transform(cl)\n",
        "cl"
      ],
      "execution_count": 12,
      "outputs": [
        {
          "output_type": "stream",
          "text": [
            "/usr/local/lib/python3.6/dist-packages/ipykernel_launcher.py:4: FutureWarning: reshape is deprecated and will raise in a subsequent release. Please use .values.reshape(...) instead\n",
            "  after removing the cwd from sys.path.\n"
          ],
          "name": "stderr"
        },
        {
          "output_type": "execute_result",
          "data": {
            "text/plain": [
              "array([[1.18705381e-04],\n",
              "       [1.47620794e-04],\n",
              "       [1.59795705e-04],\n",
              "       ...,\n",
              "       [9.27985402e-01],\n",
              "       [9.15513728e-01],\n",
              "       [8.95629055e-01]])"
            ]
          },
          "metadata": {
            "tags": []
          },
          "execution_count": 12
        }
      ]
    },
    {
      "metadata": {
        "id": "CMy16liCMLgX",
        "colab_type": "code",
        "colab": {
          "base_uri": "https://localhost:8080/",
          "height": 84
        },
        "outputId": "5c0306cc-b3d7-41ce-b858-c2ea62814a4b"
      },
      "cell_type": "code",
      "source": [
        "#Create a function to process the data into 7 day look back slices\n",
        "def processData(data,lb):\n",
        "    X,Y = [],[]\n",
        "    for i in range(len(data)-lb-1):\n",
        "        X.append(data[i:(i+lb),0])\n",
        "        Y.append(data[(i+lb),0])\n",
        "    return np.array(X),np.array(Y)\n",
        "X,y = processData(cl,3)\n",
        "X_train,X_test = X[:int(X.shape[0]*0.90)],X[int(X.shape[0]*0.90):]\n",
        "y_train,y_test = y[:int(y.shape[0]*0.90)],y[int(y.shape[0]*0.90):]\n",
        "print(X_train.shape[0])\n",
        "print(X_test.shape[0])\n",
        "print(y_train.shape[0])\n",
        "print(y_test.shape[0])"
      ],
      "execution_count": 14,
      "outputs": [
        {
          "output_type": "stream",
          "text": [
            "4518\n",
            "502\n",
            "4518\n",
            "502\n"
          ],
          "name": "stdout"
        }
      ]
    },
    {
      "metadata": {
        "id": "6bZQBw2uMSCG",
        "colab_type": "code",
        "colab": {}
      },
      "cell_type": "code",
      "source": [
        "#Build the model\n",
        "model = Sequential()\n",
        "model.add(LSTM(1024,input_shape=(3,1)))\n",
        "#model.add(LSTM(256,return_sequences=True))\n",
        "#model.add(LSTM(256))\n",
        "model.add(Dense(1))\n",
        "model.compile(optimizer='adam',loss='mse')\n",
        "#Reshape data for (Sample,Timestep,Features) \n",
        "X_train = X_train.reshape((X_train.shape[0],X_train.shape[1],1))\n",
        "X_test = X_test.reshape((X_test.shape[0],X_test.shape[1],1))\n",
        "#Fit model with history to check for overfitting"
      ],
      "execution_count": 0,
      "outputs": []
    },
    {
      "metadata": {
        "id": "weQj4vOyMabe",
        "colab_type": "code",
        "colab": {
          "base_uri": "https://localhost:8080/",
          "height": 202
        },
        "outputId": "6f159509-d9f2-43f0-ddf1-aa0f4d0a9832"
      },
      "cell_type": "code",
      "source": [
        "model.summary()"
      ],
      "execution_count": 16,
      "outputs": [
        {
          "output_type": "stream",
          "text": [
            "_________________________________________________________________\n",
            "Layer (type)                 Output Shape              Param #   \n",
            "=================================================================\n",
            "lstm_1 (LSTM)                (None, 1024)              4202496   \n",
            "_________________________________________________________________\n",
            "dense_1 (Dense)              (None, 1)                 1025      \n",
            "=================================================================\n",
            "Total params: 4,203,521\n",
            "Trainable params: 4,203,521\n",
            "Non-trainable params: 0\n",
            "_________________________________________________________________\n"
          ],
          "name": "stdout"
        }
      ]
    },
    {
      "metadata": {
        "id": "dpPK1cLpMdIu",
        "colab_type": "code",
        "colab": {
          "base_uri": "https://localhost:8080/",
          "height": 3414
        },
        "outputId": "8efe9c80-d013-4dfa-b712-6d7353af8af9"
      },
      "cell_type": "code",
      "source": [
        "history = model.fit(X_train,y_train,epochs=100,validation_data=(X_test,y_test),shuffle=False)"
      ],
      "execution_count": 17,
      "outputs": [
        {
          "output_type": "stream",
          "text": [
            "Train on 4518 samples, validate on 502 samples\n",
            "Epoch 1/100\n",
            "4518/4518 [==============================] - 5s 1ms/step - loss: 2.0455e-04 - val_loss: 0.0015\n",
            "Epoch 2/100\n",
            "4518/4518 [==============================] - 3s 683us/step - loss: 0.0016 - val_loss: 0.0115\n",
            "Epoch 3/100\n",
            "4518/4518 [==============================] - 3s 681us/step - loss: 0.0056 - val_loss: 0.1048\n",
            "Epoch 4/100\n",
            "4518/4518 [==============================] - 3s 687us/step - loss: 0.0086 - val_loss: 0.0680\n",
            "Epoch 5/100\n",
            "4518/4518 [==============================] - 3s 694us/step - loss: 0.0106 - val_loss: 0.2361\n",
            "Epoch 6/100\n",
            "2080/4518 [============>.................] - ETA: 1s - loss: 0.0060"
          ],
          "name": "stdout"
        },
        {
          "output_type": "stream",
          "text": [
            "4518/4518 [==============================] - 3s 695us/step - loss: 0.0110 - val_loss: 0.0158\n",
            "Epoch 7/100\n",
            "4518/4518 [==============================] - 3s 696us/step - loss: 0.0109 - val_loss: 0.0231\n",
            "Epoch 8/100\n",
            "4518/4518 [==============================] - 3s 691us/step - loss: 0.0112 - val_loss: 0.0094\n",
            "Epoch 9/100\n",
            "4518/4518 [==============================] - 3s 683us/step - loss: 0.0153 - val_loss: 0.0193\n",
            "Epoch 10/100\n",
            "4518/4518 [==============================] - 3s 713us/step - loss: 0.0141 - val_loss: 0.0134\n",
            "Epoch 11/100\n",
            "4224/4518 [===========================>..] - ETA: 0s - loss: 0.0111"
          ],
          "name": "stdout"
        },
        {
          "output_type": "stream",
          "text": [
            "4518/4518 [==============================] - 3s 711us/step - loss: 0.0123 - val_loss: 0.0976\n",
            "Epoch 12/100\n",
            "4518/4518 [==============================] - 3s 697us/step - loss: 0.0082 - val_loss: 0.0210\n",
            "Epoch 13/100\n",
            "4518/4518 [==============================] - 3s 674us/step - loss: 0.0021 - val_loss: 9.5360e-04\n",
            "Epoch 14/100\n",
            "4518/4518 [==============================] - 3s 677us/step - loss: 0.0011 - val_loss: 8.2790e-04\n",
            "Epoch 15/100\n",
            "4518/4518 [==============================] - 3s 684us/step - loss: 9.2011e-04 - val_loss: 0.0010\n",
            "Epoch 16/100\n",
            "4518/4518 [==============================] - 3s 685us/step - loss: 4.8325e-04 - val_loss: 0.0020\n",
            "Epoch 17/100\n",
            " 128/4518 [..............................] - ETA: 3s - loss: 0.0021"
          ],
          "name": "stdout"
        },
        {
          "output_type": "stream",
          "text": [
            "4518/4518 [==============================] - 3s 679us/step - loss: 1.9139e-04 - val_loss: 0.0032\n",
            "Epoch 18/100\n",
            "4518/4518 [==============================] - 3s 671us/step - loss: 6.8128e-05 - val_loss: 0.0036\n",
            "Epoch 19/100\n",
            "4518/4518 [==============================] - 3s 683us/step - loss: 3.4958e-05 - val_loss: 0.0033\n",
            "Epoch 20/100\n",
            "4518/4518 [==============================] - 3s 682us/step - loss: 4.0874e-05 - val_loss: 0.0026\n",
            "Epoch 21/100\n",
            "4518/4518 [==============================] - 3s 686us/step - loss: 5.5110e-05 - val_loss: 0.0019\n",
            "Epoch 22/100\n",
            "4032/4518 [=========================>....] - ETA: 0s - loss: 2.8165e-05"
          ],
          "name": "stdout"
        },
        {
          "output_type": "stream",
          "text": [
            "4518/4518 [==============================] - 3s 682us/step - loss: 6.3900e-05 - val_loss: 0.0013\n",
            "Epoch 23/100\n",
            "4518/4518 [==============================] - 3s 689us/step - loss: 6.5390e-05 - val_loss: 8.5419e-04\n",
            "Epoch 24/100\n",
            "4518/4518 [==============================] - 3s 696us/step - loss: 6.1618e-05 - val_loss: 6.2279e-04\n",
            "Epoch 25/100\n",
            "4518/4518 [==============================] - 3s 682us/step - loss: 5.4300e-05 - val_loss: 5.2156e-04\n",
            "Epoch 26/100\n",
            "4518/4518 [==============================] - 3s 686us/step - loss: 4.5902e-05 - val_loss: 4.8509e-04\n",
            "Epoch 27/100\n",
            "4352/4518 [===========================>..] - ETA: 0s - loss: 2.9709e-05"
          ],
          "name": "stdout"
        },
        {
          "output_type": "stream",
          "text": [
            "4518/4518 [==============================] - 3s 684us/step - loss: 3.9612e-05 - val_loss: 4.7498e-04\n",
            "Epoch 28/100\n",
            "4518/4518 [==============================] - 3s 694us/step - loss: 3.6517e-05 - val_loss: 4.7917e-04\n",
            "Epoch 29/100\n",
            "4518/4518 [==============================] - 3s 683us/step - loss: 3.5753e-05 - val_loss: 4.9358e-04\n",
            "Epoch 30/100\n",
            "4518/4518 [==============================] - 3s 689us/step - loss: 3.6279e-05 - val_loss: 5.1547e-04\n",
            "Epoch 31/100\n",
            "4518/4518 [==============================] - 3s 686us/step - loss: 3.7378e-05 - val_loss: 5.4082e-04\n",
            "Epoch 32/100\n",
            "4192/4518 [==========================>...] - ETA: 0s - loss: 1.2846e-05"
          ],
          "name": "stdout"
        },
        {
          "output_type": "stream",
          "text": [
            "4518/4518 [==============================] - 3s 695us/step - loss: 3.8537e-05 - val_loss: 5.6825e-04\n",
            "Epoch 33/100\n",
            "4518/4518 [==============================] - 3s 679us/step - loss: 3.9680e-05 - val_loss: 5.9340e-04\n",
            "Epoch 34/100\n",
            "4518/4518 [==============================] - 3s 689us/step - loss: 4.0467e-05 - val_loss: 6.1551e-04\n",
            "Epoch 35/100\n",
            "4518/4518 [==============================] - 3s 687us/step - loss: 4.1585e-05 - val_loss: 6.1786e-04\n",
            "Epoch 36/100\n",
            "4518/4518 [==============================] - 3s 692us/step - loss: 4.0950e-05 - val_loss: 6.1702e-04\n",
            "Epoch 37/100\n",
            "4000/4518 [=========================>....] - ETA: 0s - loss: 9.3742e-06"
          ],
          "name": "stdout"
        },
        {
          "output_type": "stream",
          "text": [
            "4518/4518 [==============================] - 3s 693us/step - loss: 4.3652e-05 - val_loss: 5.6151e-04\n",
            "Epoch 38/100\n",
            "4518/4518 [==============================] - 3s 691us/step - loss: 3.9129e-05 - val_loss: 5.3900e-04\n",
            "Epoch 39/100\n",
            "4518/4518 [==============================] - 3s 686us/step - loss: 4.6927e-05 - val_loss: 4.1910e-04\n",
            "Epoch 40/100\n",
            "4518/4518 [==============================] - 3s 703us/step - loss: 3.8946e-05 - val_loss: 4.2187e-04\n",
            "Epoch 41/100\n",
            "4518/4518 [==============================] - 3s 696us/step - loss: 4.8817e-05 - val_loss: 3.9616e-04\n",
            "Epoch 42/100\n",
            "3424/4518 [=====================>........] - ETA: 0s - loss: 3.0076e-06"
          ],
          "name": "stdout"
        },
        {
          "output_type": "stream",
          "text": [
            "4518/4518 [==============================] - 3s 696us/step - loss: 4.2446e-05 - val_loss: 4.0041e-04\n",
            "Epoch 43/100\n",
            "4518/4518 [==============================] - 3s 675us/step - loss: 5.5078e-05 - val_loss: 4.9934e-04\n",
            "Epoch 44/100\n",
            "4518/4518 [==============================] - 3s 687us/step - loss: 4.6669e-05 - val_loss: 5.0259e-04\n",
            "Epoch 45/100\n",
            "4518/4518 [==============================] - 3s 695us/step - loss: 1.0513e-04 - val_loss: 6.5224e-04\n",
            "Epoch 46/100\n",
            "4518/4518 [==============================] - 3s 690us/step - loss: 1.0113e-04 - val_loss: 0.0017\n",
            "Epoch 47/100\n",
            "3968/4518 [=========================>....] - ETA: 0s - loss: 4.1337e-04"
          ],
          "name": "stdout"
        },
        {
          "output_type": "stream",
          "text": [
            "4518/4518 [==============================] - 3s 706us/step - loss: 3.9815e-04 - val_loss: 5.9392e-04\n",
            "Epoch 48/100\n",
            "4518/4518 [==============================] - 3s 684us/step - loss: 1.4191e-04 - val_loss: 3.8041e-04\n",
            "Epoch 49/100\n",
            "4518/4518 [==============================] - 3s 700us/step - loss: 6.7800e-05 - val_loss: 3.9832e-04\n",
            "Epoch 50/100\n",
            "4518/4518 [==============================] - 3s 699us/step - loss: 5.8616e-05 - val_loss: 4.0137e-04\n",
            "Epoch 51/100\n",
            "4518/4518 [==============================] - 3s 691us/step - loss: 6.0770e-05 - val_loss: 4.1944e-04\n",
            "Epoch 52/100\n",
            "4128/4518 [==========================>...] - ETA: 0s - loss: 1.4363e-05"
          ],
          "name": "stdout"
        },
        {
          "output_type": "stream",
          "text": [
            "4518/4518 [==============================] - 3s 692us/step - loss: 5.5451e-05 - val_loss: 4.1740e-04\n",
            "Epoch 53/100\n",
            "4518/4518 [==============================] - 3s 683us/step - loss: 5.6840e-05 - val_loss: 4.3330e-04\n",
            "Epoch 54/100\n",
            "4518/4518 [==============================] - 3s 681us/step - loss: 5.1223e-05 - val_loss: 4.2189e-04\n",
            "Epoch 55/100\n",
            "4518/4518 [==============================] - 3s 683us/step - loss: 5.5072e-05 - val_loss: 4.4302e-04\n",
            "Epoch 56/100\n",
            "4518/4518 [==============================] - 3s 696us/step - loss: 4.7016e-05 - val_loss: 4.1855e-04\n",
            "Epoch 57/100\n",
            "4224/4518 [===========================>..] - ETA: 0s - loss: 1.8146e-05"
          ],
          "name": "stdout"
        },
        {
          "output_type": "stream",
          "text": [
            "4518/4518 [==============================] - 3s 683us/step - loss: 6.0062e-05 - val_loss: 4.7117e-04\n",
            "Epoch 58/100\n",
            "4518/4518 [==============================] - 3s 691us/step - loss: 4.5045e-05 - val_loss: 5.7120e-04\n",
            "Epoch 59/100\n",
            "4518/4518 [==============================] - 3s 690us/step - loss: 1.0070e-04 - val_loss: 6.2328e-04\n",
            "Epoch 60/100\n",
            "4518/4518 [==============================] - 3s 678us/step - loss: 8.1740e-05 - val_loss: 0.0019\n",
            "Epoch 61/100\n",
            "4518/4518 [==============================] - 3s 675us/step - loss: 2.7280e-04 - val_loss: 3.8545e-04\n",
            "Epoch 62/100\n",
            "4448/4518 [============================>.] - ETA: 0s - loss: 4.8407e-05"
          ],
          "name": "stdout"
        },
        {
          "output_type": "stream",
          "text": [
            "4518/4518 [==============================] - 3s 678us/step - loss: 5.2347e-05 - val_loss: 3.9562e-04\n",
            "Epoch 63/100\n",
            "4518/4518 [==============================] - 3s 692us/step - loss: 4.9433e-05 - val_loss: 4.5143e-04\n",
            "Epoch 64/100\n",
            "4518/4518 [==============================] - 3s 695us/step - loss: 6.0090e-05 - val_loss: 4.4503e-04\n",
            "Epoch 65/100\n",
            "4518/4518 [==============================] - 3s 690us/step - loss: 6.6238e-05 - val_loss: 4.1298e-04\n",
            "Epoch 66/100\n",
            "4518/4518 [==============================] - 3s 686us/step - loss: 6.5046e-05 - val_loss: 4.0216e-04\n",
            "Epoch 67/100\n",
            "4096/4518 [==========================>...] - ETA: 0s - loss: 2.8238e-05"
          ],
          "name": "stdout"
        },
        {
          "output_type": "stream",
          "text": [
            "4518/4518 [==============================] - 3s 686us/step - loss: 6.5589e-05 - val_loss: 3.9883e-04\n",
            "Epoch 68/100\n",
            "4518/4518 [==============================] - 3s 681us/step - loss: 6.7322e-05 - val_loss: 3.9457e-04\n",
            "Epoch 69/100\n",
            "4518/4518 [==============================] - 3s 680us/step - loss: 6.8334e-05 - val_loss: 3.9228e-04\n",
            "Epoch 70/100\n",
            "4518/4518 [==============================] - 3s 674us/step - loss: 6.9279e-05 - val_loss: 3.9212e-04\n",
            "Epoch 71/100\n",
            "4518/4518 [==============================] - 3s 696us/step - loss: 7.0514e-05 - val_loss: 3.9295e-04\n",
            "Epoch 72/100\n",
            "4128/4518 [==========================>...] - ETA: 0s - loss: 3.9028e-05"
          ],
          "name": "stdout"
        },
        {
          "output_type": "stream",
          "text": [
            "4518/4518 [==============================] - 3s 683us/step - loss: 7.1889e-05 - val_loss: 3.9313e-04\n",
            "Epoch 73/100\n",
            "4518/4518 [==============================] - 3s 683us/step - loss: 7.3017e-05 - val_loss: 3.8897e-04\n",
            "Epoch 74/100\n",
            "4518/4518 [==============================] - 3s 684us/step - loss: 7.2591e-05 - val_loss: 3.9107e-04\n",
            "Epoch 75/100\n",
            "4518/4518 [==============================] - 3s 681us/step - loss: 7.2571e-05 - val_loss: 3.8613e-04\n",
            "Epoch 76/100\n",
            "4518/4518 [==============================] - 3s 692us/step - loss: 7.2749e-05 - val_loss: 3.6617e-04\n",
            "Epoch 77/100\n",
            "4032/4518 [=========================>....] - ETA: 0s - loss: 3.2522e-05"
          ],
          "name": "stdout"
        },
        {
          "output_type": "stream",
          "text": [
            "4518/4518 [==============================] - 3s 693us/step - loss: 6.8431e-05 - val_loss: 3.5721e-04\n",
            "Epoch 78/100\n",
            "4518/4518 [==============================] - 3s 692us/step - loss: 6.0984e-05 - val_loss: 3.7510e-04\n",
            "Epoch 79/100\n",
            "4518/4518 [==============================] - 3s 686us/step - loss: 6.5838e-05 - val_loss: 3.6856e-04\n",
            "Epoch 80/100\n",
            "4518/4518 [==============================] - 3s 690us/step - loss: 6.1449e-05 - val_loss: 3.8491e-04\n",
            "Epoch 81/100\n",
            "4518/4518 [==============================] - 3s 711us/step - loss: 6.4673e-05 - val_loss: 3.6477e-04\n",
            "Epoch 82/100\n",
            "3872/4518 [========================>.....] - ETA: 0s - loss: 2.6226e-05"
          ],
          "name": "stdout"
        },
        {
          "output_type": "stream",
          "text": [
            "4518/4518 [==============================] - 3s 701us/step - loss: 5.9994e-05 - val_loss: 3.6564e-04\n",
            "Epoch 83/100\n",
            "4518/4518 [==============================] - 3s 684us/step - loss: 6.0776e-05 - val_loss: 3.5720e-04\n",
            "Epoch 84/100\n",
            "4518/4518 [==============================] - 3s 698us/step - loss: 6.0360e-05 - val_loss: 3.4233e-04\n",
            "Epoch 85/100\n",
            "4518/4518 [==============================] - 3s 690us/step - loss: 4.8624e-05 - val_loss: 3.4747e-04\n",
            "Epoch 86/100\n",
            "4518/4518 [==============================] - 3s 676us/step - loss: 4.8365e-05 - val_loss: 3.5856e-04\n",
            "Epoch 87/100\n",
            "4128/4518 [==========================>...] - ETA: 0s - loss: 1.7433e-05"
          ],
          "name": "stdout"
        },
        {
          "output_type": "stream",
          "text": [
            "4518/4518 [==============================] - 3s 682us/step - loss: 5.3670e-05 - val_loss: 3.3494e-04\n",
            "Epoch 88/100\n",
            "4518/4518 [==============================] - 3s 689us/step - loss: 4.5540e-05 - val_loss: 3.4765e-04\n",
            "Epoch 89/100\n",
            "4518/4518 [==============================] - 3s 690us/step - loss: 5.1888e-05 - val_loss: 3.3872e-04\n",
            "Epoch 90/100\n",
            "4518/4518 [==============================] - 3s 688us/step - loss: 4.5328e-05 - val_loss: 3.5229e-04\n",
            "Epoch 91/100\n",
            "4518/4518 [==============================] - 3s 693us/step - loss: 5.1559e-05 - val_loss: 3.7681e-04\n",
            "Epoch 92/100\n",
            "4128/4518 [==========================>...] - ETA: 0s - loss: 7.2751e-06"
          ],
          "name": "stdout"
        },
        {
          "output_type": "stream",
          "text": [
            "4518/4518 [==============================] - 3s 685us/step - loss: 4.9794e-05 - val_loss: 4.3804e-04\n",
            "Epoch 93/100\n",
            "4518/4518 [==============================] - 3s 690us/step - loss: 4.3719e-05 - val_loss: 4.4806e-04\n",
            "Epoch 94/100\n",
            "4518/4518 [==============================] - 3s 684us/step - loss: 5.5021e-05 - val_loss: 4.3428e-04\n",
            "Epoch 95/100\n",
            "4518/4518 [==============================] - 3s 682us/step - loss: 4.8861e-05 - val_loss: 5.0663e-04\n",
            "Epoch 96/100\n",
            "4518/4518 [==============================] - 3s 683us/step - loss: 4.1021e-05 - val_loss: 0.0024\n",
            "Epoch 97/100\n",
            "4352/4518 [===========================>..] - ETA: 0s - loss: 9.5782e-05"
          ],
          "name": "stdout"
        },
        {
          "output_type": "stream",
          "text": [
            "4518/4518 [==============================] - 3s 688us/step - loss: 1.3069e-04 - val_loss: 4.9070e-04\n",
            "Epoch 98/100\n",
            "4518/4518 [==============================] - 3s 701us/step - loss: 9.9909e-05 - val_loss: 0.0042\n",
            "Epoch 99/100\n",
            "4518/4518 [==============================] - 3s 686us/step - loss: 4.1668e-04 - val_loss: 0.0041\n",
            "Epoch 100/100\n",
            "4518/4518 [==============================] - 3s 688us/step - loss: 4.5792e-04 - val_loss: 5.2731e-04\n"
          ],
          "name": "stdout"
        }
      ]
    },
    {
      "metadata": {
        "id": "kW5m_EwkMgRd",
        "colab_type": "code",
        "colab": {
          "base_uri": "https://localhost:8080/",
          "height": 282
        },
        "outputId": "f0e6df74-6665-4f08-eef0-dd2d71990915"
      },
      "cell_type": "code",
      "source": [
        "matplotlib.pyplot.plot(history.history['loss'])\n",
        "matplotlib.pyplot.plot(history.history['val_loss'])"
      ],
      "execution_count": 18,
      "outputs": [
        {
          "output_type": "execute_result",
          "data": {
            "text/plain": [
              "[<matplotlib.lines.Line2D at 0x7f3e280526d8>]"
            ]
          },
          "metadata": {
            "tags": []
          },
          "execution_count": 18
        },
        {
          "output_type": "display_data",
          "data": {
            "image/png": "[encoded data removed]",
            "text/plain": [
              "<matplotlib.figure.Figure at 0x7f3e2805df60>"
            ]
          },
          "metadata": {
            "tags": []
          }
        }
      ]
    },
    {
      "metadata": {
        "id": "2nTTb50PN3d2",
        "colab_type": "code",
        "colab": {
          "base_uri": "https://localhost:8080/",
          "height": 282
        },
        "outputId": "b0a86a36-9e49-499e-cc65-0709bf92b57a"
      },
      "cell_type": "code",
      "source": [
        "Xt = model.predict(X_test)\n",
        "matplotlib.pyplot.plot(scl.inverse_transform(y_test.reshape(-1,1)))\n",
        "matplotlib.pyplot.plot(scl.inverse_transform(Xt))"
      ],
      "execution_count": 19,
      "outputs": [
        {
          "output_type": "execute_result",
          "data": {
            "text/plain": [
              "[<matplotlib.lines.Line2D at 0x7f3e1fb769e8>]"
            ]
          },
          "metadata": {
            "tags": []
          },
          "execution_count": 19
        },
        {
          "output_type": "display_data",
          "data": {
            "image/png": "[encoded data removed]",
            "text/plain": [
              "<matplotlib.figure.Figure at 0x7f3e2803a898>"
            ]
          },
          "metadata": {
            "tags": []
          }
        }
      ]
    },
    {
      "metadata": {
        "id": "l0xU2yxEN6pW",
        "colab_type": "code",
        "colab": {
          "base_uri": "https://localhost:8080/",
          "height": 34
        },
        "outputId": "c30a20fc-715a-4d5e-ad1b-c8d7502ac1b3"
      },
      "cell_type": "code",
      "source": [
        "act = []\n",
        "pred = []\n",
        "#for i in range(250):\n",
        "i=249\n",
        "Xt = model.predict(X_test[i].reshape(1,3,1))\n",
        "print('predicted:{0}, actual:{1}'.format(scl.inverse_transform(Xt),scl.inverse_transform(y_test[i].reshape(-1,1))))\n",
        "pred.append(scl.inverse_transform(Xt))\n",
        "act.append(scl.inverse_transform(y_test[i].reshape(-1,1)))"
      ],
      "execution_count": 20,
      "outputs": [
        {
          "output_type": "stream",
          "text": [
            "predicted:[[28632.332]], actual:[[28930.6]]\n"
          ],
          "name": "stdout"
        }
      ]
    },
    {
      "metadata": {
        "id": "yH2b9fRjOGvP",
        "colab_type": "code",
        "colab": {}
      },
      "cell_type": "code",
      "source": [
        "result_df = pd.DataFrame({'pred':list(np.reshape(pred, (-1))),'act':list(np.reshape(act, (-1)))})"
      ],
      "execution_count": 0,
      "outputs": []
    },
    {
      "metadata": {
        "id": "hHnmGZ4kOK90",
        "colab_type": "code",
        "colab": {
          "base_uri": "https://localhost:8080/",
          "height": 282
        },
        "outputId": "fb4b7e1e-e37e-484f-bbe1-25f000509f47"
      },
      "cell_type": "code",
      "source": [
        "Xt = model.predict(X_test)\n",
        "matplotlib.pyplot.plot(scl.inverse_transform(y_test.reshape(-1,1)))\n",
        "matplotlib.pyplot.plot(scl.inverse_transform(Xt))\n"
      ],
      "execution_count": 22,
      "outputs": [
        {
          "output_type": "execute_result",
          "data": {
            "text/plain": [
              "[<matplotlib.lines.Line2D at 0x7f3e1f9f30f0>]"
            ]
          },
          "metadata": {
            "tags": []
          },
          "execution_count": 22
        },
        {
          "output_type": "display_data",
          "data": {
            "image/png": "[encoded data removed]",
            "text/plain": [
              "<matplotlib.figure.Figure at 0x7f3e1fb81dd8>"
            ]
          },
          "metadata": {
            "tags": []
          }
        }
      ]
    },
    {
      "metadata": {
        "id": "xg6zSID6ONYn",
        "colab_type": "code",
        "colab": {}
      },
      "cell_type": "code",
      "source": [
        ""
      ],
      "execution_count": 0,
      "outputs": []
    }
  ]
}