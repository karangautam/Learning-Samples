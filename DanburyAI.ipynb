{
  "nbformat": 4,
  "nbformat_minor": 0,
  "metadata": {
    "colab": {
      "name": "DanburyAI.ipynb",
      "version": "0.3.2",
      "provenance": [],
      "collapsed_sections": []
    },
    "kernelspec": {
      "name": "python3",
      "display_name": "Python 3"
    },
    "accelerator": "GPU"
  },
  "cells": [
    {
      "cell_type": "markdown",
      "metadata": {
        "id": "view-in-github",
        "colab_type": "text"
      },
      "source": [
        "[View in Colaboratory](https://colab.research.google.com/github/karangautam/Learning-Samples/blob/master/DanburyAI.ipynb)"
      ]
    },
    {
      "metadata": {
        "id": "90On7IveSdrW",
        "colab_type": "code",
        "colab": {
          "resources": {
            "http://localhost:8080/nbextensions/google.colab/files.js": {
              "data": "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",
              "ok": true,
              "headers": [
                [
                  "content-type",
                  "application/javascript"
                ]
              ],
              "status": 200,
              "status_text": ""
            }
          },
          "base_uri": "https://localhost:8080/",
          "height": 90
        },
        "outputId": "b8db250d-b95a-45ac-e9b5-d491772af3be"
      },
      "cell_type": "code",
      "source": [
        "# Run this cell and select the kaggle.json file downloaded\n",
        "# from the Kaggle account settings page.\n",
        "from google.colab import files\n",
        "files.upload()"
      ],
      "execution_count": 1,
      "outputs": [
        {
          "output_type": "display_data",
          "data": {
            "text/html": [
              "\n",
              "     <input type=\"file\" id=\"files-9ff728d1-853b-4340-b0f0-08ab7e17478b\" name=\"files[]\" multiple disabled />\n",
              "     <output id=\"result-9ff728d1-853b-4340-b0f0-08ab7e17478b\">\n",
              "      Upload widget is only available when the cell has been executed in the\n",
              "      current browser session. Please rerun this cell to enable.\n",
              "      </output>\n",
              "      <script src=\"/nbextensions/google.colab/files.js\"></script> "
            ],
            "text/plain": [
              "<IPython.core.display.HTML object>"
            ]
          },
          "metadata": {
            "tags": []
          }
        },
        {
          "output_type": "stream",
          "text": [
            "Saving kaggle.json to kaggle.json\n"
          ],
          "name": "stdout"
        },
        {
          "output_type": "execute_result",
          "data": {
            "text/plain": [
              "{'kaggle.json': b'{\"username\":\"karangautam\",\"key\":\"7886fb75a6cbe6a3bf59d84dcbab4904\"}'}"
            ]
          },
          "metadata": {
            "tags": []
          },
          "execution_count": 1
        }
      ]
    },
    {
      "metadata": {
        "id": "mx6KzcnxSsD3",
        "colab_type": "code",
        "colab": {
          "base_uri": "https://localhost:8080/",
          "height": 34
        },
        "outputId": "fec750cb-a648-442a-e702-8f0afe5ed885"
      },
      "cell_type": "code",
      "source": [
        "!ls -lha kaggle.json\n",
        "# Next, install the Kaggle API client.\n",
        "!pip install -q kaggle\n",
        "# The Kaggle API client expects this file to be in ~/.kaggle,\n",
        "# so move it there.\n",
        "!mkdir -p ~/.kaggle\n",
        "!cp kaggle.json ~/.kaggle/\n",
        "\n",
        "# This permissions change avoids a warning on Kaggle tool startup.\n",
        "!chmod 600 /content/.kaggle/kaggle.json"
      ],
      "execution_count": 2,
      "outputs": [
        {
          "output_type": "stream",
          "text": [
            "-rw-r--r-- 1 root root 67 Jun 16 12:27 kaggle.json\r\n"
          ],
          "name": "stdout"
        }
      ]
    },
    {
      "metadata": {
        "id": "-0ZhGlbCS4bv",
        "colab_type": "code",
        "colab": {
          "base_uri": "https://localhost:8080/",
          "height": 406
        },
        "outputId": "24baab3b-5a35-4849-9d00-f3e3d1caba9d"
      },
      "cell_type": "code",
      "source": [
        "# List available datasets.\n",
        "!kaggle competitions list"
      ],
      "execution_count": 46,
      "outputs": [
        {
          "output_type": "stream",
          "text": [
            "ref                                             deadline             category            reward  teamCount  userHasEntered  \r\n",
            "----------------------------------------------  -------------------  ---------------  ---------  ---------  --------------  \r\n",
            "house-prices-advanced-regression-techniques     2030-01-01 00:00:00  Getting Started  Knowledge       5116            True  \r\n",
            "digit-recognizer                                2030-01-01 00:00:00  Getting Started  Knowledge       2679            True  \r\n",
            "titanic                                         2030-01-01 00:00:00  Getting Started  Knowledge      11490            True  \r\n",
            "imagenet-object-detection-challenge             2029-12-31 07:00:00  Research         Knowledge          0           False  \r\n",
            "imagenet-object-detection-from-video-challenge  2029-12-31 07:00:00  Research         Knowledge          0           False  \r\n",
            "imagenet-object-localization-challenge          2029-12-31 07:00:00  Research         Knowledge         16           False  \r\n",
            "competitive-data-science-predict-future-sales   2019-01-01 23:59:00  Playground           Kudos        753           False  \r\n",
            "home-credit-default-risk                        2018-08-29 23:59:00  Featured           $70,000       2666           False  \r\n",
            "trackml-particle-identification                 2018-08-13 23:59:00  Featured           $25,000        422           False  \r\n",
            "youtube8m-2018                                  2018-08-06 23:59:00  Featured           $25,000        241           False  \r\n",
            "freesound-audio-tagging                         2018-07-31 23:59:00  Research         Knowledge        329           False  \r\n",
            "whale-categorization-playground                 2018-07-09 23:59:00  Playground           Kudos        412            True  \r\n",
            "avito-demand-prediction                         2018-06-27 23:59:00  Featured           $25,000       1779            True  \r\n",
            "cvpr-2018-autonomous-driving                    2018-06-11 23:59:00  Research            $2,500        145           False  \r\n",
            "inaturalist-2018                                2018-06-04 23:59:00  Research             Kudos         59           False  \r\n",
            "imaterialist-challenge-fashion-2018             2018-05-30 23:59:00  Research            $2,500        212           False  \r\n",
            "imaterialist-challenge-furniture-2018           2018-05-30 23:59:00  Research            $2,500        436           False  \r\n",
            "landmark-retrieval-challenge                    2018-05-29 23:59:00  Research            $2,500        218           False  \r\n",
            "landmark-recognition-challenge                  2018-05-29 23:59:00  Research            $2,500        483           False  \r\n",
            "talkingdata-adtracking-fraud-detection          2018-05-07 23:59:00  Featured           $25,000       3967           False  \r\n"
          ],
          "name": "stdout"
        }
      ]
    },
    {
      "metadata": {
        "id": "CzzYRINoS7gD",
        "colab_type": "code",
        "colab": {
          "base_uri": "https://localhost:8080/",
          "height": 218
        },
        "outputId": "ec9789ab-beb1-4c63-ff69-070754ee1a49"
      },
      "cell_type": "code",
      "source": [
        "!kaggle competitions download -c dai-june"
      ],
      "execution_count": 4,
      "outputs": [
        {
          "output_type": "stream",
          "text": [
            "Downloading train_y.npy to /content/.kaggle/competitions/dai-june\r\n",
            "\r  0%|                                               | 0.00/43.0k [00:00<?, ?B/s]\r\n",
            "100%|██████████████████████████████████████| 43.0k/43.0k [00:00<00:00, 22.3MB/s]\n",
            "Downloading example_submission.csv to /content/.kaggle/competitions/dai-june\n",
            "  0%|                                                 | 0.00/360 [00:00<?, ?B/s]\n",
            "100%|███████████████████████████████████████████| 360/360 [00:00<00:00, 462kB/s]\n",
            "Downloading test.npy to /content/.kaggle/competitions/dai-june\n",
            " 87%|█████████████████████████████████▏    | 75.0M/85.8M [00:01<00:01, 11.2MB/s]\n",
            "100%|██████████████████████████████████████| 85.8M/85.8M [00:01<00:00, 53.8MB/s]\n",
            "Downloading train_x.npy to /content/.kaggle/competitions/dai-june\n",
            " 88%|███████████████████████████████████     | 113M/129M [00:02<00:00, 17.8MB/s]\n",
            "100%|████████████████████████████████████████| 129M/129M [00:02<00:00, 53.2MB/s]\n"
          ],
          "name": "stdout"
        }
      ]
    },
    {
      "metadata": {
        "id": "KoatsDFLTA9v",
        "colab_type": "code",
        "colab": {
          "base_uri": "https://localhost:8080/",
          "height": 101
        },
        "outputId": "d0c066bc-4c61-4c90-ed4d-82772bdc86a4"
      },
      "cell_type": "code",
      "source": [
        "from subprocess import check_output\n",
        "print(check_output([\"ls\", \"../content/.kaggle/competitions/dai-june\"]).decode(\"utf8\"))\n",
        "#print(check_output([\"ls\", \"../content/.kaggle/competitions/whale-categorization-playground/train/train\"]).decode(\"utf8\"))\n"
      ],
      "execution_count": 47,
      "outputs": [
        {
          "output_type": "stream",
          "text": [
            "example_submission.csv\n",
            "test.npy\n",
            "train_x.npy\n",
            "train_y.npy\n",
            "\n"
          ],
          "name": "stdout"
        }
      ]
    },
    {
      "metadata": {
        "id": "3aG9-tbpTrSa",
        "colab_type": "code",
        "colab": {}
      },
      "cell_type": "code",
      "source": [
        "import keras\n",
        "from keras import layers\n",
        "from keras import models"
      ],
      "execution_count": 0,
      "outputs": []
    },
    {
      "metadata": {
        "id": "CX7NhpAST2ru",
        "colab_type": "code",
        "colab": {}
      },
      "cell_type": "code",
      "source": [
        "from keras.applications import VGG16\n",
        "\n",
        "conv_base = VGG16(weights='imagenet',\n",
        "                  include_top=False,\n",
        "                  input_shape=(48, 48, 3))"
      ],
      "execution_count": 0,
      "outputs": []
    },
    {
      "metadata": {
        "id": "GeX6tKEQVGpY",
        "colab_type": "code",
        "colab": {}
      },
      "cell_type": "code",
      "source": [
        "import pandas as pd\n",
        "import numpy as np"
      ],
      "execution_count": 0,
      "outputs": []
    },
    {
      "metadata": {
        "id": "pKSsODkUULcU",
        "colab_type": "code",
        "colab": {}
      },
      "cell_type": "code",
      "source": [
        "base_dir = '../content/.kaggle/competitions/dai-june'\n",
        "x_train= np.load('../content/.kaggle/competitions/dai-june/train_x.npy')\n",
        "y_train = np.load('../content/.kaggle/competitions/dai-june/train_y.npy')"
      ],
      "execution_count": 0,
      "outputs": []
    },
    {
      "metadata": {
        "id": "0qVnLvdVVTjp",
        "colab_type": "code",
        "colab": {}
      },
      "cell_type": "code",
      "source": [
        "trainX= x_train.astype('float32')\n"
      ],
      "execution_count": 0,
      "outputs": []
    },
    {
      "metadata": {
        "id": "3aYETp3iVVcJ",
        "colab_type": "code",
        "colab": {}
      },
      "cell_type": "code",
      "source": [
        "trainX /= 255"
      ],
      "execution_count": 0,
      "outputs": []
    },
    {
      "metadata": {
        "id": "Qz4ZABzfWDRA",
        "colab_type": "code",
        "colab": {
          "base_uri": "https://localhost:8080/",
          "height": 34
        },
        "outputId": "713fae59-eec0-4489-ed76-eeb66612a912"
      },
      "cell_type": "code",
      "source": [
        "y_train.dtype"
      ],
      "execution_count": 54,
      "outputs": [
        {
          "output_type": "execute_result",
          "data": {
            "text/plain": [
              "dtype('uint8')"
            ]
          },
          "metadata": {
            "tags": []
          },
          "execution_count": 54
        }
      ]
    },
    {
      "metadata": {
        "id": "QI6BtmB_XYfW",
        "colab_type": "code",
        "colab": {
          "base_uri": "https://localhost:8080/",
          "height": 134
        },
        "outputId": "33330831-0fed-4435-896d-371e0675ead2"
      },
      "cell_type": "code",
      "source": [
        "y_train[0:99]"
      ],
      "execution_count": 55,
      "outputs": [
        {
          "output_type": "execute_result",
          "data": {
            "text/plain": [
              "array([ 8,  2,  1,  5,  5,  5,  2,  1,  6,  6,  2,  2,  9,  7,  1,  2,  7,\n",
              "        3,  5,  4,  1,  4,  8,  4,  4,  2,  1,  2,  5,  2,  5,  4,  9,  2,\n",
              "        8,  3,  7,  7,  1,  2, 10,  1,  1,  3,  6,  3,  1,  7,  3,  2,  2,\n",
              "        2,  2,  2,  9,  4,  2,  5, 10,  2,  5, 10,  1,  2,  7,  1,  7,  1,\n",
              "        1,  7,  2,  8, 10, 10,  3,  1,  6,  8,  1,  6,  5,  4,  5, 10,  4,\n",
              "        2,  4,  1,  4,  1,  3,  3,  7,  4,  1,  2,  2,  6,  2],\n",
              "      dtype=uint8)"
            ]
          },
          "metadata": {
            "tags": []
          },
          "execution_count": 55
        }
      ]
    },
    {
      "metadata": {
        "id": "qPxyZt0ZXoby",
        "colab_type": "code",
        "colab": {}
      },
      "cell_type": "code",
      "source": [
        "n_classes = 11\n",
        "trainY = keras.utils.to_categorical(y_train, n_classes)\n"
      ],
      "execution_count": 0,
      "outputs": []
    },
    {
      "metadata": {
        "id": "Qk1TVdT0YlmB",
        "colab_type": "code",
        "colab": {
          "base_uri": "https://localhost:8080/",
          "height": 34
        },
        "outputId": "052803c9-9de8-4d5f-a933-338b22a20f1f"
      },
      "cell_type": "code",
      "source": [
        "trainX.shape"
      ],
      "execution_count": 57,
      "outputs": [
        {
          "output_type": "execute_result",
          "data": {
            "text/plain": [
              "(43954, 32, 32, 3)"
            ]
          },
          "metadata": {
            "tags": []
          },
          "execution_count": 57
        }
      ]
    },
    {
      "metadata": {
        "id": "KZ9dN47tYm97",
        "colab_type": "code",
        "colab": {}
      },
      "cell_type": "code",
      "source": [
        "model = models.Sequential()\n",
        "\n",
        "model.add(layers.Conv2D(32,(3,3),activation='relu',input_shape=(32,32,3),padding='same'))\n",
        "#model.add(layers.MaxPooling2D(2,2))\n",
        "model.add(layers.Conv2D(32,(3,3),activation='relu',padding='same'))\n",
        "model.add(layers.Conv2D(32,(3,3),activation='relu',padding='same'))\n",
        "model.add(layers.BatchNormalization())\n",
        "model.add(layers.MaxPooling2D(2,2))\n",
        "\n",
        "model.add(layers.Conv2D(64,(3,3),activation='relu',padding='same'))\n",
        "model.add(layers.Conv2D(64,(3,3),activation='relu',padding='same'))\n",
        "model.add(layers.Conv2D(64,(3,3),activation='relu',padding='same'))\n",
        "model.add(layers.BatchNormalization())\n",
        "model.add(layers.MaxPooling2D(2,2))\n",
        "model.add(layers.Conv2D(128,(3,3),activation='relu',padding='same'))\n",
        "model.add(layers.Conv2D(128,(3,3),activation='relu',padding='same'))\n",
        "model.add(layers.Conv2D(128,(3,3),activation='relu',padding='same'))\n",
        "model.add(layers.BatchNormalization())\n",
        "model.add(layers.MaxPooling2D(2,2))\n",
        "model.add(layers.Conv2D(256,(3,3),activation='relu',padding='same'))\n",
        "model.add(layers.Flatten())\n",
        "\n",
        "model.add(layers.Dense(128,activation='relu'))\n",
        "model.add(layers.Dropout(0.50))\n",
        "model.add(layers.BatchNormalization())\n",
        "model.add(layers.Dense(64,activation='relu'))\n",
        "model.add(layers.Dropout(0.50))\n",
        "model.add(layers.BatchNormalization())\n",
        "model.add(layers.Dense(32,activation='relu'))\n",
        "\n",
        "model.add(layers.Dense(11,activation='softmax'))"
      ],
      "execution_count": 0,
      "outputs": []
    },
    {
      "metadata": {
        "id": "MMPJ6ckAjlnj",
        "colab_type": "code",
        "colab": {}
      },
      "cell_type": "code",
      "source": [
        ""
      ],
      "execution_count": 0,
      "outputs": []
    },
    {
      "metadata": {
        "id": "Me6Qtc97YvXy",
        "colab_type": "code",
        "colab": {
          "base_uri": "https://localhost:8080/",
          "height": 874
        },
        "outputId": "3309ca23-62a6-4a0a-8b2d-4865bf3710cc"
      },
      "cell_type": "code",
      "source": [
        "model.compile(loss='categorical_crossentropy',metrics=['accuracy'],optimizer='adam')\n",
        "model.summary()"
      ],
      "execution_count": 67,
      "outputs": [
        {
          "output_type": "stream",
          "text": [
            "_________________________________________________________________\n",
            "Layer (type)                 Output Shape              Param #   \n",
            "=================================================================\n",
            "conv2d_40 (Conv2D)           (None, 32, 32, 32)        896       \n",
            "_________________________________________________________________\n",
            "conv2d_41 (Conv2D)           (None, 32, 32, 32)        9248      \n",
            "_________________________________________________________________\n",
            "conv2d_42 (Conv2D)           (None, 32, 32, 32)        9248      \n",
            "_________________________________________________________________\n",
            "max_pooling2d_13 (MaxPooling (None, 16, 16, 32)        0         \n",
            "_________________________________________________________________\n",
            "conv2d_43 (Conv2D)           (None, 16, 16, 64)        18496     \n",
            "_________________________________________________________________\n",
            "conv2d_44 (Conv2D)           (None, 16, 16, 64)        36928     \n",
            "_________________________________________________________________\n",
            "conv2d_45 (Conv2D)           (None, 16, 16, 64)        36928     \n",
            "_________________________________________________________________\n",
            "max_pooling2d_14 (MaxPooling (None, 8, 8, 64)          0         \n",
            "_________________________________________________________________\n",
            "conv2d_46 (Conv2D)           (None, 8, 8, 128)         73856     \n",
            "_________________________________________________________________\n",
            "conv2d_47 (Conv2D)           (None, 8, 8, 128)         147584    \n",
            "_________________________________________________________________\n",
            "conv2d_48 (Conv2D)           (None, 8, 8, 128)         147584    \n",
            "_________________________________________________________________\n",
            "max_pooling2d_15 (MaxPooling (None, 4, 4, 128)         0         \n",
            "_________________________________________________________________\n",
            "conv2d_49 (Conv2D)           (None, 4, 4, 256)         295168    \n",
            "_________________________________________________________________\n",
            "flatten_5 (Flatten)          (None, 4096)              0         \n",
            "_________________________________________________________________\n",
            "dense_17 (Dense)             (None, 128)               524416    \n",
            "_________________________________________________________________\n",
            "dropout_9 (Dropout)          (None, 128)               0         \n",
            "_________________________________________________________________\n",
            "batch_normalization_5 (Batch (None, 128)               512       \n",
            "_________________________________________________________________\n",
            "dense_18 (Dense)             (None, 64)                8256      \n",
            "_________________________________________________________________\n",
            "dropout_10 (Dropout)         (None, 64)                0         \n",
            "_________________________________________________________________\n",
            "batch_normalization_6 (Batch (None, 64)                256       \n",
            "_________________________________________________________________\n",
            "dense_19 (Dense)             (None, 32)                2080      \n",
            "_________________________________________________________________\n",
            "dense_20 (Dense)             (None, 11)                363       \n",
            "=================================================================\n",
            "Total params: 1,311,819\n",
            "Trainable params: 1,311,435\n",
            "Non-trainable params: 384\n",
            "_________________________________________________________________\n"
          ],
          "name": "stdout"
        }
      ]
    },
    {
      "metadata": {
        "id": "rPRk1RQGZbUB",
        "colab_type": "code",
        "colab": {
          "base_uri": "https://localhost:8080/",
          "height": 1697
        },
        "outputId": "26188c66-0322-4a6f-972d-7f0c140dfc68"
      },
      "cell_type": "code",
      "source": [
        "history=model.fit(trainX,trainY,epochs=50,verbose=2,batch_size=128)"
      ],
      "execution_count": 68,
      "outputs": [
        {
          "output_type": "stream",
          "text": [
            "Epoch 1/50\n",
            " - 25s - loss: 0.2016 - acc: 0.9550\n",
            "Epoch 2/50\n",
            " - 23s - loss: 0.1554 - acc: 0.9642\n",
            "Epoch 3/50\n",
            " - 23s - loss: 0.1371 - acc: 0.9676\n",
            "Epoch 4/50\n",
            " - 23s - loss: 0.1324 - acc: 0.9688\n",
            "Epoch 5/50\n",
            " - 23s - loss: 0.1320 - acc: 0.9687\n",
            "Epoch 6/50\n",
            " - 23s - loss: 0.1077 - acc: 0.9744\n",
            "Epoch 7/50\n",
            " - 23s - loss: 0.1108 - acc: 0.9737\n",
            "Epoch 8/50\n",
            " - 23s - loss: 0.1066 - acc: 0.9747\n",
            "Epoch 9/50\n",
            " - 23s - loss: 0.0905 - acc: 0.9786\n",
            "Epoch 10/50\n",
            " - 23s - loss: 0.0907 - acc: 0.9782\n",
            "Epoch 11/50\n",
            " - 23s - loss: 0.0857 - acc: 0.9797\n",
            "Epoch 12/50\n",
            " - 23s - loss: 0.0892 - acc: 0.9780\n",
            "Epoch 13/50\n",
            " - 23s - loss: 0.0837 - acc: 0.9801\n",
            "Epoch 14/50\n",
            " - 23s - loss: 0.0885 - acc: 0.9790\n",
            "Epoch 15/50\n",
            " - 23s - loss: 0.0760 - acc: 0.9817\n",
            "Epoch 16/50\n",
            " - 23s - loss: 0.0770 - acc: 0.9812\n",
            "Epoch 17/50\n",
            " - 23s - loss: 0.0741 - acc: 0.9818\n",
            "Epoch 18/50\n",
            " - 23s - loss: 0.0708 - acc: 0.9830\n",
            "Epoch 19/50\n",
            " - 23s - loss: 0.0772 - acc: 0.9816\n",
            "Epoch 20/50\n",
            " - 23s - loss: 0.0738 - acc: 0.9820\n",
            "Epoch 21/50\n",
            " - 23s - loss: 0.0637 - acc: 0.9853\n",
            "Epoch 22/50\n",
            " - 23s - loss: 0.0642 - acc: 0.9847\n",
            "Epoch 23/50\n",
            " - 23s - loss: 0.0707 - acc: 0.9831\n",
            "Epoch 24/50\n",
            " - 23s - loss: 0.0671 - acc: 0.9839\n",
            "Epoch 25/50\n",
            " - 23s - loss: 0.0577 - acc: 0.9857\n",
            "Epoch 26/50\n",
            " - 23s - loss: 0.0592 - acc: 0.9851\n",
            "Epoch 27/50\n",
            " - 23s - loss: 0.0545 - acc: 0.9869\n",
            "Epoch 28/50\n",
            " - 23s - loss: 0.0587 - acc: 0.9859\n",
            "Epoch 29/50\n",
            " - 23s - loss: 0.0590 - acc: 0.9861\n",
            "Epoch 30/50\n",
            " - 23s - loss: 0.0622 - acc: 0.9852\n",
            "Epoch 31/50\n",
            " - 23s - loss: 0.0623 - acc: 0.9849\n",
            "Epoch 32/50\n",
            " - 23s - loss: 0.0577 - acc: 0.9856\n",
            "Epoch 33/50\n",
            " - 23s - loss: 0.0618 - acc: 0.9850\n",
            "Epoch 34/50\n",
            " - 23s - loss: 0.0528 - acc: 0.9878\n",
            "Epoch 35/50\n",
            " - 23s - loss: 0.0475 - acc: 0.9883\n",
            "Epoch 36/50\n",
            " - 23s - loss: 0.0601 - acc: 0.9857\n",
            "Epoch 37/50\n",
            " - 23s - loss: 0.0559 - acc: 0.9858\n",
            "Epoch 38/50\n",
            " - 23s - loss: 0.0534 - acc: 0.9877\n",
            "Epoch 39/50\n",
            " - 23s - loss: 0.0537 - acc: 0.9866\n",
            "Epoch 40/50\n",
            " - 23s - loss: 0.0555 - acc: 0.9861\n",
            "Epoch 41/50\n",
            " - 23s - loss: 0.0440 - acc: 0.9897\n",
            "Epoch 42/50\n",
            " - 23s - loss: 0.0446 - acc: 0.9893\n",
            "Epoch 43/50\n",
            " - 23s - loss: 0.0432 - acc: 0.9897\n",
            "Epoch 44/50\n",
            " - 23s - loss: 0.0569 - acc: 0.9858\n",
            "Epoch 45/50\n",
            " - 23s - loss: 0.0552 - acc: 0.9866\n",
            "Epoch 46/50\n"
          ],
          "name": "stdout"
        },
        {
          "output_type": "stream",
          "text": [
            " - 23s - loss: 0.0505 - acc: 0.9880\n",
            "Epoch 47/50\n",
            " - 23s - loss: 0.0503 - acc: 0.9877\n",
            "Epoch 48/50\n",
            " - 23s - loss: 0.0415 - acc: 0.9901\n",
            "Epoch 49/50\n",
            " - 23s - loss: 0.0377 - acc: 0.9908\n",
            "Epoch 50/50\n",
            " - 23s - loss: 0.0464 - acc: 0.9886\n"
          ],
          "name": "stdout"
        }
      ]
    },
    {
      "metadata": {
        "id": "YhNACvqrZkuy",
        "colab_type": "code",
        "colab": {}
      },
      "cell_type": "code",
      "source": [
        "X_test= np.load('../content/.kaggle/competitions/dai-june/test.npy')"
      ],
      "execution_count": 0,
      "outputs": []
    },
    {
      "metadata": {
        "id": "lNJjgOc4qPyF",
        "colab_type": "code",
        "colab": {}
      },
      "cell_type": "code",
      "source": [
        "X_test= X_test.astype('float32')"
      ],
      "execution_count": 0,
      "outputs": []
    },
    {
      "metadata": {
        "id": "wZXyIQHTqUax",
        "colab_type": "code",
        "colab": {}
      },
      "cell_type": "code",
      "source": [
        "X_test /= 255"
      ],
      "execution_count": 0,
      "outputs": []
    },
    {
      "metadata": {
        "id": "3ezSsIUQqZJM",
        "colab_type": "code",
        "colab": {}
      },
      "cell_type": "code",
      "source": [
        "predictions = model.predict(X_test)"
      ],
      "execution_count": 0,
      "outputs": []
    },
    {
      "metadata": {
        "id": "Az8QE19wqcZf",
        "colab_type": "code",
        "colab": {}
      },
      "cell_type": "code",
      "source": [
        "from sklearn.preprocessing import LabelEncoder\n",
        "from numpy import argmax\n",
        "label_encoder= LabelEncoder()\n",
        "inverse = predictions.argmax(1)"
      ],
      "execution_count": 0,
      "outputs": []
    },
    {
      "metadata": {
        "id": "g5vBSRFkqpJJ",
        "colab_type": "code",
        "colab": {
          "base_uri": "https://localhost:8080/",
          "height": 34
        },
        "outputId": "d415f1ce-106c-4f10-c3dc-81f62a45af90"
      },
      "cell_type": "code",
      "source": [
        "inverse"
      ],
      "execution_count": 74,
      "outputs": [
        {
          "output_type": "execute_result",
          "data": {
            "text/plain": [
              "array([9, 6, 8, ..., 5, 1, 6])"
            ]
          },
          "metadata": {
            "tags": []
          },
          "execution_count": 74
        }
      ]
    },
    {
      "metadata": {
        "id": "TWxxbjHTqssg",
        "colab_type": "code",
        "colab": {
          "base_uri": "https://localhost:8080/",
          "height": 118
        },
        "outputId": "51dfe5c4-659a-46ee-b8e8-9a3fd9b7ebbf"
      },
      "cell_type": "code",
      "source": [
        "inverse[0:99]"
      ],
      "execution_count": 75,
      "outputs": [
        {
          "output_type": "execute_result",
          "data": {
            "text/plain": [
              "array([ 9,  6,  8,  1,  2,  5,  4,  9,  6, 10,  2, 10,  7, 10,  1,  3,  6,\n",
              "        6,  3,  5,  9,  1,  1,  7,  2,  2, 10,  6,  5,  7,  4,  4,  1,  6,\n",
              "        2,  2,  1,  8,  1,  6,  7,  1,  2,  3,  1,  2,  1,  1,  1,  6,  5,\n",
              "        2,  1,  8,  5,  5,  2,  5,  1,  1,  3,  3,  1,  6,  4,  6,  3,  7,\n",
              "        7,  4,  5,  3,  2,  1,  4,  1,  7,  7,  1,  3, 10,  2,  2,  5,  9,\n",
              "        9,  2,  4,  2,  3,  5,  1,  5,  4,  1,  9,  1, 10,  4])"
            ]
          },
          "metadata": {
            "tags": []
          },
          "execution_count": 75
        }
      ]
    },
    {
      "metadata": {
        "id": "6ddBKZe9qwP-",
        "colab_type": "code",
        "colab": {}
      },
      "cell_type": "code",
      "source": [
        "predictions=inverse"
      ],
      "execution_count": 0,
      "outputs": []
    },
    {
      "metadata": {
        "id": "LpZEB_STq1eY",
        "colab_type": "code",
        "colab": {}
      },
      "cell_type": "code",
      "source": [
        "submissions=pd.DataFrame({\"id\": list(range(0,len(predictions))),\n",
        "                         \"label\": predictions})\n"
      ],
      "execution_count": 0,
      "outputs": []
    },
    {
      "metadata": {
        "id": "OuTB7dyFq6Mj",
        "colab_type": "code",
        "colab": {}
      },
      "cell_type": "code",
      "source": [
        "from google.colab import files\n",
        "\n",
        "submissions.to_csv('df.csv',index=False, header=True)\n",
        "files.download('df.csv')"
      ],
      "execution_count": 0,
      "outputs": []
    },
    {
      "metadata": {
        "id": "zNxmYjpvrA3Q",
        "colab_type": "code",
        "colab": {}
      },
      "cell_type": "code",
      "source": [
        ""
      ],
      "execution_count": 0,
      "outputs": []
    }
  ]
}