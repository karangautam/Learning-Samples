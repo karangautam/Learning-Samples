{
  "nbformat": 4,
  "nbformat_minor": 0,
  "metadata": {
    "colab": {
      "name": "Boston House Prices.ipynb",
      "version": "0.3.2",
      "provenance": [],
      "collapsed_sections": []
    },
    "kernelspec": {
      "name": "python3",
      "display_name": "Python 3"
    },
    "accelerator": "GPU"
  },
  "cells": [
    {
      "cell_type": "markdown",
      "metadata": {
        "id": "view-in-github",
        "colab_type": "text"
      },
      "source": [
        "[View in Colaboratory](https://colab.research.google.com/github/karangautam/Learning-Samples/blob/master/Boston_House_Prices.ipynb)"
      ]
    },
    {
      "metadata": {
        "id": "5tLNWtCPiJz_",
        "colab_type": "code",
        "colab": {
          "base_uri": "https://localhost:8080/",
          "height": 34
        },
        "outputId": "7f4f4e40-48c4-4a5d-f9e5-d76cc139b852"
      },
      "cell_type": "code",
      "source": [
        "from keras.datasets import boston_housing"
      ],
      "execution_count": 3,
      "outputs": [
        {
          "output_type": "stream",
          "text": [
            "Using TensorFlow backend.\n"
          ],
          "name": "stderr"
        }
      ]
    },
    {
      "metadata": {
        "id": "bJcj_GRpiyWh",
        "colab_type": "code",
        "colab": {
          "base_uri": "https://localhost:8080/",
          "height": 51
        },
        "outputId": "88348d6f-7a8a-4ae0-9737-3bdca827fa7f"
      },
      "cell_type": "code",
      "source": [
        "(train_data,train_labels),(test_data,test_labels)= boston_housing.load_data()"
      ],
      "execution_count": 4,
      "outputs": [
        {
          "output_type": "stream",
          "text": [
            "Downloading data from https://s3.amazonaws.com/keras-datasets/boston_housing.npz\n",
            "57344/57026 [==============================] - 0s 3us/step\n"
          ],
          "name": "stdout"
        }
      ]
    },
    {
      "metadata": {
        "id": "vHRR9nb0jB0t",
        "colab_type": "code",
        "colab": {
          "base_uri": "https://localhost:8080/",
          "height": 51
        },
        "outputId": "a7d6be6d-def0-4f58-b3b6-499e27e093a5"
      },
      "cell_type": "code",
      "source": [
        "print(train_data.shape)\n",
        "print(test_data.shape)\n"
      ],
      "execution_count": 5,
      "outputs": [
        {
          "output_type": "stream",
          "text": [
            "(404, 13)\n",
            "(102, 13)\n"
          ],
          "name": "stdout"
        }
      ]
    },
    {
      "metadata": {
        "id": "cWpHzvQ5jK7V",
        "colab_type": "code",
        "colab": {}
      },
      "cell_type": "code",
      "source": [
        "mean= train_data.mean(axis=0)\n",
        "train_data -= mean\n",
        "std = train_data.std(axis=0)\n",
        "train_data /= std\n",
        "\n",
        "test_data -= mean\n",
        "test_data /= std"
      ],
      "execution_count": 0,
      "outputs": []
    },
    {
      "metadata": {
        "id": "GeA03u-DjR1x",
        "colab_type": "code",
        "colab": {
          "base_uri": "https://localhost:8080/",
          "height": 34
        },
        "outputId": "39072bc6-8775-40cd-8598-c3913eb46594"
      },
      "cell_type": "code",
      "source": [
        "train_data.shape[0]"
      ],
      "execution_count": 7,
      "outputs": [
        {
          "output_type": "execute_result",
          "data": {
            "text/plain": [
              "404"
            ]
          },
          "metadata": {
            "tags": []
          },
          "execution_count": 7
        }
      ]
    },
    {
      "metadata": {
        "id": "qKV2HHEvkQ03",
        "colab_type": "code",
        "colab": {}
      },
      "cell_type": "code",
      "source": [
        "from keras.layers import Dense\n",
        "from keras.models import Sequential\n",
        "\n",
        "def build_model():\n",
        "  model= Sequential()\n",
        "  model.add(Dense(64,activation='relu',input_shape=(train_data.shape[1],)))\n",
        "  model.add(Dense(64,activation='relu'))\n",
        "  model.add(Dense(1))\n",
        "  model.compile(loss='mse',optimizer='rmsprop',metrics=['mae'])\n",
        "  return model"
      ],
      "execution_count": 0,
      "outputs": []
    },
    {
      "metadata": {
        "id": "lEjB2-oQlCcD",
        "colab_type": "code",
        "colab": {
          "base_uri": "https://localhost:8080/",
          "height": 13591
        },
        "outputId": "8332fb5b-0325-44a8-9726-8060b68f2e92"
      },
      "cell_type": "code",
      "source": [
        "import numpy as np\n",
        "k=4\n",
        "num_val_samples = len(train_data)//k\n",
        "num_epochs = 100\n",
        "all_scores = []\n",
        "\n",
        "for i in range(k):\n",
        "  print('processing fold # ', i)\n",
        "  val_data = train_data[i * num_val_samples: (i+1) * num_val_samples]\n",
        "  val_targets = train_labels[i*num_val_samples:(i+1)*num_val_samples]\n",
        "  \n",
        "  partial_train_data = np.concatenate([train_data[:i*num_val_samples], train_data[(i+1)*num_val_samples:]],axis=0)\n",
        "  partial_train_targets = np.concatenate([train_labels[:i*num_val_samples],train_labels[(i+1)*num_val_samples:]],axis=0)\n",
        "  \n",
        "  model = build_model()\n",
        "  model.fit(partial_train_data,partial_train_targets,epochs=num_epochs,batch_size=1,validation_data=(val_data,val_targets),verbose =2)\n",
        "  val_mse, val_mae = model.evaluate(val_data,val_targets,verbose=2)\n",
        "  all_scores.append(val_mae)"
      ],
      "execution_count": 13,
      "outputs": [
        {
          "output_type": "stream",
          "text": [
            "processing fold #  0\n",
            "Train on 303 samples, validate on 101 samples\n",
            "Epoch 1/100\n",
            " - 2s - loss: 202.3814 - mean_absolute_error: 10.7722 - val_loss: 35.6699 - val_mean_absolute_error: 4.0277\n",
            "Epoch 2/100\n",
            " - 2s - loss: 30.2373 - mean_absolute_error: 3.8334 - val_loss: 20.8735 - val_mean_absolute_error: 3.1098\n",
            "Epoch 3/100\n",
            " - 2s - loss: 21.3092 - mean_absolute_error: 3.1753 - val_loss: 20.0278 - val_mean_absolute_error: 2.9640\n",
            "Epoch 4/100\n",
            " - 2s - loss: 18.2486 - mean_absolute_error: 2.8959 - val_loss: 18.2133 - val_mean_absolute_error: 2.7662\n",
            "Epoch 5/100\n",
            " - 2s - loss: 16.6024 - mean_absolute_error: 2.6640 - val_loss: 14.4925 - val_mean_absolute_error: 2.6143\n",
            "Epoch 6/100\n",
            " - 2s - loss: 15.4888 - mean_absolute_error: 2.5713 - val_loss: 15.5081 - val_mean_absolute_error: 2.8297\n",
            "Epoch 7/100\n",
            " - 2s - loss: 14.2158 - mean_absolute_error: 2.5346 - val_loss: 11.6177 - val_mean_absolute_error: 2.1780\n",
            "Epoch 8/100\n",
            " - 2s - loss: 13.8676 - mean_absolute_error: 2.4219 - val_loss: 10.9579 - val_mean_absolute_error: 2.2124\n",
            "Epoch 9/100\n",
            " - 2s - loss: 13.3236 - mean_absolute_error: 2.4053 - val_loss: 11.0290 - val_mean_absolute_error: 2.4079\n",
            "Epoch 10/100\n",
            " - 2s - loss: 12.2322 - mean_absolute_error: 2.3711 - val_loss: 10.7856 - val_mean_absolute_error: 2.4768\n",
            "Epoch 11/100\n",
            " - 2s - loss: 12.0429 - mean_absolute_error: 2.2840 - val_loss: 11.0054 - val_mean_absolute_error: 2.6437\n",
            "Epoch 12/100\n",
            " - 2s - loss: 11.0378 - mean_absolute_error: 2.2667 - val_loss: 12.1238 - val_mean_absolute_error: 2.1944\n",
            "Epoch 13/100\n",
            " - 2s - loss: 11.0410 - mean_absolute_error: 2.2168 - val_loss: 10.0324 - val_mean_absolute_error: 2.3531\n",
            "Epoch 14/100\n",
            " - 2s - loss: 10.9247 - mean_absolute_error: 2.1709 - val_loss: 9.9728 - val_mean_absolute_error: 1.9888\n",
            "Epoch 15/100\n",
            " - 2s - loss: 10.8698 - mean_absolute_error: 2.1458 - val_loss: 8.8595 - val_mean_absolute_error: 2.0924\n",
            "Epoch 16/100\n",
            " - 2s - loss: 10.0222 - mean_absolute_error: 2.1528 - val_loss: 11.2212 - val_mean_absolute_error: 2.1394\n",
            "Epoch 17/100\n",
            " - 2s - loss: 10.6232 - mean_absolute_error: 2.0763 - val_loss: 9.4834 - val_mean_absolute_error: 2.3191\n",
            "Epoch 18/100\n",
            " - 2s - loss: 10.1178 - mean_absolute_error: 2.0736 - val_loss: 10.3359 - val_mean_absolute_error: 2.2372\n",
            "Epoch 19/100\n",
            " - 2s - loss: 9.7737 - mean_absolute_error: 2.0347 - val_loss: 8.7322 - val_mean_absolute_error: 2.0579\n",
            "Epoch 20/100\n",
            " - 2s - loss: 9.7840 - mean_absolute_error: 2.0008 - val_loss: 9.1137 - val_mean_absolute_error: 2.2349\n",
            "Epoch 21/100\n",
            " - 2s - loss: 9.2096 - mean_absolute_error: 2.0093 - val_loss: 8.7604 - val_mean_absolute_error: 2.2353\n",
            "Epoch 22/100\n",
            " - 2s - loss: 8.9584 - mean_absolute_error: 2.0102 - val_loss: 8.4853 - val_mean_absolute_error: 1.9784\n",
            "Epoch 23/100\n",
            " - 2s - loss: 9.6401 - mean_absolute_error: 1.9862 - val_loss: 9.4946 - val_mean_absolute_error: 1.9904\n",
            "Epoch 24/100\n",
            " - 2s - loss: 8.7674 - mean_absolute_error: 1.9614 - val_loss: 9.0507 - val_mean_absolute_error: 1.9598\n",
            "Epoch 25/100\n",
            " - 2s - loss: 8.4997 - mean_absolute_error: 1.9485 - val_loss: 10.2136 - val_mean_absolute_error: 2.4811\n",
            "Epoch 26/100\n",
            " - 2s - loss: 8.9046 - mean_absolute_error: 1.9507 - val_loss: 9.5939 - val_mean_absolute_error: 2.0976\n",
            "Epoch 27/100\n",
            " - 2s - loss: 8.3395 - mean_absolute_error: 1.8963 - val_loss: 7.8219 - val_mean_absolute_error: 2.0805\n",
            "Epoch 28/100\n",
            " - 2s - loss: 7.9938 - mean_absolute_error: 1.8877 - val_loss: 10.2078 - val_mean_absolute_error: 2.5343\n"
          ],
          "name": "stdout"
        },
        {
          "output_type": "stream",
          "text": [
            "Epoch 29/100\n",
            " - 2s - loss: 8.2561 - mean_absolute_error: 1.8483 - val_loss: 9.4016 - val_mean_absolute_error: 2.2593\n",
            "Epoch 30/100\n",
            " - 2s - loss: 8.1531 - mean_absolute_error: 1.8470 - val_loss: 8.9889 - val_mean_absolute_error: 2.0760\n",
            "Epoch 31/100\n",
            " - 2s - loss: 8.0918 - mean_absolute_error: 1.8821 - val_loss: 8.3211 - val_mean_absolute_error: 1.8413\n",
            "Epoch 32/100\n",
            " - 2s - loss: 7.7916 - mean_absolute_error: 1.7844 - val_loss: 8.1176 - val_mean_absolute_error: 1.9159\n",
            "Epoch 33/100\n",
            " - 2s - loss: 7.6513 - mean_absolute_error: 1.8420 - val_loss: 8.4504 - val_mean_absolute_error: 2.1325\n",
            "Epoch 34/100\n",
            " - 2s - loss: 7.5455 - mean_absolute_error: 1.8289 - val_loss: 8.8618 - val_mean_absolute_error: 1.8850\n",
            "Epoch 35/100\n",
            " - 2s - loss: 7.6217 - mean_absolute_error: 1.7378 - val_loss: 7.8906 - val_mean_absolute_error: 1.9406\n",
            "Epoch 36/100\n",
            " - 2s - loss: 7.4117 - mean_absolute_error: 1.7156 - val_loss: 8.2792 - val_mean_absolute_error: 2.0886\n",
            "Epoch 37/100\n",
            " - 2s - loss: 7.5525 - mean_absolute_error: 1.7246 - val_loss: 9.2203 - val_mean_absolute_error: 2.2074\n",
            "Epoch 38/100\n",
            " - 2s - loss: 7.3294 - mean_absolute_error: 1.7586 - val_loss: 8.1605 - val_mean_absolute_error: 2.0040\n",
            "Epoch 39/100\n",
            " - 2s - loss: 7.0043 - mean_absolute_error: 1.7168 - val_loss: 8.7101 - val_mean_absolute_error: 2.0736\n",
            "Epoch 40/100\n",
            " - 2s - loss: 7.3544 - mean_absolute_error: 1.7492 - val_loss: 8.9755 - val_mean_absolute_error: 2.0181\n",
            "Epoch 41/100\n",
            " - 2s - loss: 6.9190 - mean_absolute_error: 1.7221 - val_loss: 9.5276 - val_mean_absolute_error: 2.2315\n",
            "Epoch 42/100\n",
            " - 2s - loss: 6.9322 - mean_absolute_error: 1.7151 - val_loss: 9.3212 - val_mean_absolute_error: 2.1566\n",
            "Epoch 43/100\n",
            " - 2s - loss: 7.0078 - mean_absolute_error: 1.7260 - val_loss: 9.3662 - val_mean_absolute_error: 2.0805\n",
            "Epoch 44/100\n",
            " - 2s - loss: 6.8956 - mean_absolute_error: 1.6683 - val_loss: 8.8362 - val_mean_absolute_error: 2.1267\n",
            "Epoch 45/100\n",
            " - 2s - loss: 6.5566 - mean_absolute_error: 1.7006 - val_loss: 8.6211 - val_mean_absolute_error: 2.0063\n",
            "Epoch 46/100\n",
            " - 2s - loss: 6.6469 - mean_absolute_error: 1.6678 - val_loss: 8.5363 - val_mean_absolute_error: 2.0087\n",
            "Epoch 47/100\n",
            " - 2s - loss: 6.5121 - mean_absolute_error: 1.6224 - val_loss: 9.1325 - val_mean_absolute_error: 2.1312\n",
            "Epoch 48/100\n",
            " - 2s - loss: 6.5352 - mean_absolute_error: 1.5994 - val_loss: 8.8042 - val_mean_absolute_error: 2.0711\n",
            "Epoch 49/100\n",
            " - 2s - loss: 6.6317 - mean_absolute_error: 1.6480 - val_loss: 7.8903 - val_mean_absolute_error: 2.0190\n",
            "Epoch 50/100\n",
            " - 2s - loss: 6.5909 - mean_absolute_error: 1.7013 - val_loss: 9.0564 - val_mean_absolute_error: 2.1303\n",
            "Epoch 51/100\n",
            " - 2s - loss: 6.4779 - mean_absolute_error: 1.6229 - val_loss: 8.8341 - val_mean_absolute_error: 2.1991\n",
            "Epoch 52/100\n",
            " - 2s - loss: 6.3285 - mean_absolute_error: 1.6454 - val_loss: 7.7353 - val_mean_absolute_error: 1.8708\n",
            "Epoch 53/100\n",
            " - 2s - loss: 5.9557 - mean_absolute_error: 1.6469 - val_loss: 15.0116 - val_mean_absolute_error: 3.1411\n",
            "Epoch 54/100\n",
            " - 2s - loss: 6.5557 - mean_absolute_error: 1.6066 - val_loss: 7.5562 - val_mean_absolute_error: 1.9196\n",
            "Epoch 55/100\n",
            " - 2s - loss: 6.4445 - mean_absolute_error: 1.5975 - val_loss: 8.7277 - val_mean_absolute_error: 2.1211\n",
            "Epoch 56/100\n",
            " - 2s - loss: 6.0786 - mean_absolute_error: 1.6041 - val_loss: 7.9131 - val_mean_absolute_error: 1.9599\n",
            "Epoch 57/100\n",
            " - 2s - loss: 6.2045 - mean_absolute_error: 1.5979 - val_loss: 8.8835 - val_mean_absolute_error: 2.1491\n"
          ],
          "name": "stdout"
        },
        {
          "output_type": "stream",
          "text": [
            "Epoch 58/100\n",
            " - 2s - loss: 5.8972 - mean_absolute_error: 1.5225 - val_loss: 9.1403 - val_mean_absolute_error: 2.1050\n",
            "Epoch 59/100\n",
            " - 2s - loss: 5.9746 - mean_absolute_error: 1.5604 - val_loss: 8.9600 - val_mean_absolute_error: 2.1409\n",
            "Epoch 60/100\n",
            " - 2s - loss: 6.3446 - mean_absolute_error: 1.5842 - val_loss: 9.1113 - val_mean_absolute_error: 1.9206\n",
            "Epoch 61/100\n",
            " - 2s - loss: 6.2026 - mean_absolute_error: 1.6038 - val_loss: 8.6876 - val_mean_absolute_error: 2.1405\n",
            "Epoch 62/100\n",
            " - 2s - loss: 6.1273 - mean_absolute_error: 1.5056 - val_loss: 8.2291 - val_mean_absolute_error: 1.9995\n",
            "Epoch 63/100\n",
            " - 2s - loss: 5.4334 - mean_absolute_error: 1.5740 - val_loss: 8.1577 - val_mean_absolute_error: 2.0222\n",
            "Epoch 64/100\n",
            " - 2s - loss: 5.9595 - mean_absolute_error: 1.5774 - val_loss: 8.2042 - val_mean_absolute_error: 2.0455\n",
            "Epoch 65/100\n",
            " - 2s - loss: 5.7785 - mean_absolute_error: 1.5851 - val_loss: 7.6241 - val_mean_absolute_error: 1.9356\n",
            "Epoch 66/100\n",
            " - 2s - loss: 5.6863 - mean_absolute_error: 1.5875 - val_loss: 8.0690 - val_mean_absolute_error: 2.0851\n",
            "Epoch 67/100\n",
            " - 2s - loss: 5.4692 - mean_absolute_error: 1.4818 - val_loss: 8.7683 - val_mean_absolute_error: 2.1489\n",
            "Epoch 68/100\n",
            " - 2s - loss: 5.3466 - mean_absolute_error: 1.4786 - val_loss: 8.2879 - val_mean_absolute_error: 1.9931\n",
            "Epoch 69/100\n",
            " - 2s - loss: 5.6560 - mean_absolute_error: 1.4822 - val_loss: 7.8895 - val_mean_absolute_error: 2.0989\n",
            "Epoch 70/100\n",
            " - 2s - loss: 5.7428 - mean_absolute_error: 1.4578 - val_loss: 8.0411 - val_mean_absolute_error: 1.9764\n",
            "Epoch 71/100\n",
            " - 2s - loss: 5.5490 - mean_absolute_error: 1.5199 - val_loss: 8.9196 - val_mean_absolute_error: 2.1464\n",
            "Epoch 72/100\n",
            " - 2s - loss: 5.4344 - mean_absolute_error: 1.4603 - val_loss: 8.8212 - val_mean_absolute_error: 2.1713\n",
            "Epoch 73/100\n",
            " - 2s - loss: 5.2441 - mean_absolute_error: 1.4437 - val_loss: 9.2936 - val_mean_absolute_error: 2.2233\n",
            "Epoch 74/100\n",
            " - 2s - loss: 5.1716 - mean_absolute_error: 1.4995 - val_loss: 9.3349 - val_mean_absolute_error: 2.1907\n",
            "Epoch 75/100\n",
            " - 2s - loss: 5.2050 - mean_absolute_error: 1.5360 - val_loss: 7.7934 - val_mean_absolute_error: 2.0863\n",
            "Epoch 76/100\n",
            " - 2s - loss: 5.4302 - mean_absolute_error: 1.4984 - val_loss: 7.8872 - val_mean_absolute_error: 2.0252\n",
            "Epoch 77/100\n",
            " - 2s - loss: 5.2775 - mean_absolute_error: 1.4191 - val_loss: 7.4792 - val_mean_absolute_error: 2.0287\n",
            "Epoch 78/100\n",
            " - 2s - loss: 5.5207 - mean_absolute_error: 1.5122 - val_loss: 8.5575 - val_mean_absolute_error: 2.0664\n",
            "Epoch 79/100\n",
            " - 2s - loss: 5.0029 - mean_absolute_error: 1.4166 - val_loss: 10.2768 - val_mean_absolute_error: 2.3572\n",
            "Epoch 80/100\n",
            " - 2s - loss: 5.2161 - mean_absolute_error: 1.4436 - val_loss: 9.2986 - val_mean_absolute_error: 2.2785\n",
            "Epoch 81/100\n",
            " - 2s - loss: 5.2843 - mean_absolute_error: 1.4527 - val_loss: 7.5023 - val_mean_absolute_error: 2.0703\n",
            "Epoch 82/100\n",
            " - 2s - loss: 5.0646 - mean_absolute_error: 1.4777 - val_loss: 8.3237 - val_mean_absolute_error: 2.0733\n",
            "Epoch 83/100\n",
            " - 2s - loss: 5.1107 - mean_absolute_error: 1.4601 - val_loss: 7.9591 - val_mean_absolute_error: 2.0446\n",
            "Epoch 84/100\n",
            " - 2s - loss: 4.9236 - mean_absolute_error: 1.4569 - val_loss: 7.5459 - val_mean_absolute_error: 2.0024\n",
            "Epoch 85/100\n",
            " - 2s - loss: 5.0260 - mean_absolute_error: 1.4119 - val_loss: 7.9450 - val_mean_absolute_error: 1.9791\n",
            "Epoch 86/100\n",
            " - 2s - loss: 5.1093 - mean_absolute_error: 1.4507 - val_loss: 8.0309 - val_mean_absolute_error: 1.9795\n"
          ],
          "name": "stdout"
        },
        {
          "output_type": "stream",
          "text": [
            "Epoch 87/100\n",
            " - 2s - loss: 5.0229 - mean_absolute_error: 1.4279 - val_loss: 7.7606 - val_mean_absolute_error: 1.9944\n",
            "Epoch 88/100\n",
            " - 2s - loss: 4.8519 - mean_absolute_error: 1.3601 - val_loss: 9.0031 - val_mean_absolute_error: 2.0874\n",
            "Epoch 89/100\n",
            " - 2s - loss: 4.8782 - mean_absolute_error: 1.3756 - val_loss: 9.6533 - val_mean_absolute_error: 2.2723\n",
            "Epoch 90/100\n",
            " - 2s - loss: 4.6245 - mean_absolute_error: 1.4165 - val_loss: 9.5989 - val_mean_absolute_error: 2.3180\n",
            "Epoch 91/100\n",
            " - 2s - loss: 4.8354 - mean_absolute_error: 1.4213 - val_loss: 8.2242 - val_mean_absolute_error: 2.1121\n",
            "Epoch 92/100\n",
            " - 2s - loss: 4.2343 - mean_absolute_error: 1.4214 - val_loss: 11.3349 - val_mean_absolute_error: 2.4489\n",
            "Epoch 93/100\n",
            " - 2s - loss: 4.3612 - mean_absolute_error: 1.3937 - val_loss: 8.9671 - val_mean_absolute_error: 2.1652\n",
            "Epoch 94/100\n",
            " - 2s - loss: 4.7804 - mean_absolute_error: 1.3864 - val_loss: 8.5343 - val_mean_absolute_error: 2.2297\n",
            "Epoch 95/100\n",
            " - 2s - loss: 4.0152 - mean_absolute_error: 1.3361 - val_loss: 8.6763 - val_mean_absolute_error: 2.2236\n",
            "Epoch 96/100\n",
            " - 2s - loss: 4.4571 - mean_absolute_error: 1.3742 - val_loss: 8.2112 - val_mean_absolute_error: 2.1061\n",
            "Epoch 97/100\n",
            " - 2s - loss: 4.4911 - mean_absolute_error: 1.3901 - val_loss: 8.3482 - val_mean_absolute_error: 2.1516\n",
            "Epoch 98/100\n",
            " - 2s - loss: 4.1980 - mean_absolute_error: 1.3819 - val_loss: 8.2065 - val_mean_absolute_error: 2.0687\n",
            "Epoch 99/100\n",
            " - 2s - loss: 4.4164 - mean_absolute_error: 1.3535 - val_loss: 8.5406 - val_mean_absolute_error: 2.0200\n",
            "Epoch 100/100\n",
            " - 2s - loss: 4.2980 - mean_absolute_error: 1.3496 - val_loss: 7.9511 - val_mean_absolute_error: 2.0581\n",
            "processing fold #  1\n",
            "Train on 303 samples, validate on 101 samples\n",
            "Epoch 1/100\n",
            " - 2s - loss: 184.3598 - mean_absolute_error: 9.8699 - val_loss: 29.0060 - val_mean_absolute_error: 4.2099\n",
            "Epoch 2/100\n",
            " - 2s - loss: 27.8283 - mean_absolute_error: 3.5201 - val_loss: 18.2643 - val_mean_absolute_error: 3.2011\n",
            "Epoch 3/100\n",
            " - 2s - loss: 20.0539 - mean_absolute_error: 2.9768 - val_loss: 14.4969 - val_mean_absolute_error: 2.8706\n",
            "Epoch 4/100\n",
            " - 2s - loss: 16.9710 - mean_absolute_error: 2.6992 - val_loss: 14.9182 - val_mean_absolute_error: 2.9195\n",
            "Epoch 5/100\n",
            " - 2s - loss: 15.0599 - mean_absolute_error: 2.5109 - val_loss: 12.9701 - val_mean_absolute_error: 2.7813\n",
            "Epoch 6/100\n",
            " - 2s - loss: 13.4077 - mean_absolute_error: 2.4072 - val_loss: 12.3274 - val_mean_absolute_error: 2.7021\n",
            "Epoch 7/100\n",
            " - 2s - loss: 13.1041 - mean_absolute_error: 2.3444 - val_loss: 12.5966 - val_mean_absolute_error: 2.7544\n",
            "Epoch 8/100\n",
            " - 2s - loss: 12.6416 - mean_absolute_error: 2.2437 - val_loss: 11.8521 - val_mean_absolute_error: 2.6700\n",
            "Epoch 9/100\n",
            " - 2s - loss: 11.4681 - mean_absolute_error: 2.1954 - val_loss: 10.3318 - val_mean_absolute_error: 2.4651\n",
            "Epoch 10/100\n",
            " - 2s - loss: 10.9591 - mean_absolute_error: 2.1708 - val_loss: 11.5957 - val_mean_absolute_error: 2.6074\n",
            "Epoch 11/100\n",
            " - 2s - loss: 11.0529 - mean_absolute_error: 2.1289 - val_loss: 12.0951 - val_mean_absolute_error: 2.7108\n",
            "Epoch 12/100\n",
            " - 2s - loss: 10.3640 - mean_absolute_error: 2.1100 - val_loss: 11.2584 - val_mean_absolute_error: 2.5899\n",
            "Epoch 13/100\n",
            " - 2s - loss: 10.3974 - mean_absolute_error: 2.0874 - val_loss: 15.6166 - val_mean_absolute_error: 3.0431\n",
            "Epoch 14/100\n",
            " - 2s - loss: 10.0188 - mean_absolute_error: 2.1277 - val_loss: 10.8737 - val_mean_absolute_error: 2.5287\n",
            "Epoch 15/100\n"
          ],
          "name": "stdout"
        },
        {
          "output_type": "stream",
          "text": [
            " - 2s - loss: 9.5664 - mean_absolute_error: 2.0057 - val_loss: 10.6882 - val_mean_absolute_error: 2.5180\n",
            "Epoch 16/100\n",
            " - 2s - loss: 10.2375 - mean_absolute_error: 2.0464 - val_loss: 9.3625 - val_mean_absolute_error: 2.3840\n",
            "Epoch 17/100\n",
            " - 2s - loss: 9.4785 - mean_absolute_error: 2.0037 - val_loss: 10.9538 - val_mean_absolute_error: 2.5298\n",
            "Epoch 18/100\n",
            " - 2s - loss: 9.7637 - mean_absolute_error: 2.0437 - val_loss: 10.6293 - val_mean_absolute_error: 2.5774\n",
            "Epoch 19/100\n",
            " - 2s - loss: 9.5584 - mean_absolute_error: 2.0204 - val_loss: 9.5522 - val_mean_absolute_error: 2.3680\n",
            "Epoch 20/100\n",
            " - 2s - loss: 9.1985 - mean_absolute_error: 2.0212 - val_loss: 9.6464 - val_mean_absolute_error: 2.4177\n",
            "Epoch 21/100\n",
            " - 2s - loss: 9.4210 - mean_absolute_error: 2.0276 - val_loss: 9.5548 - val_mean_absolute_error: 2.3785\n",
            "Epoch 22/100\n",
            " - 2s - loss: 8.9968 - mean_absolute_error: 1.9482 - val_loss: 9.2093 - val_mean_absolute_error: 2.3400\n",
            "Epoch 23/100\n",
            " - 2s - loss: 9.0236 - mean_absolute_error: 1.9040 - val_loss: 10.0030 - val_mean_absolute_error: 2.4917\n",
            "Epoch 24/100\n",
            " - 2s - loss: 9.0084 - mean_absolute_error: 1.9437 - val_loss: 11.3479 - val_mean_absolute_error: 2.6522\n",
            "Epoch 25/100\n",
            " - 2s - loss: 8.4282 - mean_absolute_error: 1.9137 - val_loss: 8.9227 - val_mean_absolute_error: 2.2902\n",
            "Epoch 26/100\n",
            " - 2s - loss: 8.4407 - mean_absolute_error: 1.9106 - val_loss: 9.2846 - val_mean_absolute_error: 2.3149\n",
            "Epoch 27/100\n",
            " - 2s - loss: 8.1626 - mean_absolute_error: 1.9091 - val_loss: 12.0660 - val_mean_absolute_error: 2.7324\n",
            "Epoch 28/100\n",
            " - 2s - loss: 7.6133 - mean_absolute_error: 1.8362 - val_loss: 9.6222 - val_mean_absolute_error: 2.3946\n",
            "Epoch 29/100\n",
            " - 2s - loss: 8.0380 - mean_absolute_error: 1.8611 - val_loss: 10.0361 - val_mean_absolute_error: 2.4714\n",
            "Epoch 30/100\n",
            " - 2s - loss: 8.1865 - mean_absolute_error: 1.8102 - val_loss: 9.2201 - val_mean_absolute_error: 2.2987\n",
            "Epoch 31/100\n",
            " - 2s - loss: 8.1358 - mean_absolute_error: 1.8666 - val_loss: 10.8287 - val_mean_absolute_error: 2.4933\n",
            "Epoch 32/100\n",
            " - 2s - loss: 8.0105 - mean_absolute_error: 1.8853 - val_loss: 8.3795 - val_mean_absolute_error: 2.2246\n",
            "Epoch 33/100\n",
            " - 2s - loss: 7.6811 - mean_absolute_error: 1.8354 - val_loss: 9.5425 - val_mean_absolute_error: 2.3791\n",
            "Epoch 34/100\n",
            " - 2s - loss: 8.0538 - mean_absolute_error: 1.8469 - val_loss: 8.4087 - val_mean_absolute_error: 2.2258\n",
            "Epoch 35/100\n",
            " - 2s - loss: 8.0349 - mean_absolute_error: 1.7979 - val_loss: 9.4084 - val_mean_absolute_error: 2.3816\n",
            "Epoch 36/100\n",
            " - 2s - loss: 7.3714 - mean_absolute_error: 1.7493 - val_loss: 9.1573 - val_mean_absolute_error: 2.3320\n",
            "Epoch 37/100\n",
            " - 2s - loss: 7.8782 - mean_absolute_error: 1.7982 - val_loss: 10.6744 - val_mean_absolute_error: 2.5041\n",
            "Epoch 38/100\n",
            " - 2s - loss: 8.0288 - mean_absolute_error: 1.8017 - val_loss: 9.8614 - val_mean_absolute_error: 2.4387\n",
            "Epoch 39/100\n",
            " - 2s - loss: 7.2211 - mean_absolute_error: 1.7186 - val_loss: 11.0832 - val_mean_absolute_error: 2.5658\n",
            "Epoch 40/100\n",
            " - 2s - loss: 7.4239 - mean_absolute_error: 1.8100 - val_loss: 10.4615 - val_mean_absolute_error: 2.5437\n",
            "Epoch 41/100\n",
            " - 2s - loss: 7.5075 - mean_absolute_error: 1.7239 - val_loss: 9.5587 - val_mean_absolute_error: 2.3274\n",
            "Epoch 42/100\n",
            " - 2s - loss: 7.0631 - mean_absolute_error: 1.7152 - val_loss: 8.4928 - val_mean_absolute_error: 2.2100\n",
            "Epoch 43/100\n",
            " - 2s - loss: 7.1421 - mean_absolute_error: 1.7123 - val_loss: 9.1337 - val_mean_absolute_error: 2.3002\n"
          ],
          "name": "stdout"
        },
        {
          "output_type": "stream",
          "text": [
            "Epoch 44/100\n",
            " - 2s - loss: 7.1223 - mean_absolute_error: 1.7256 - val_loss: 9.6454 - val_mean_absolute_error: 2.3597\n",
            "Epoch 45/100\n",
            " - 2s - loss: 6.5423 - mean_absolute_error: 1.6563 - val_loss: 10.8575 - val_mean_absolute_error: 2.5355\n",
            "Epoch 46/100\n",
            " - 2s - loss: 7.0189 - mean_absolute_error: 1.6693 - val_loss: 9.2731 - val_mean_absolute_error: 2.3665\n",
            "Epoch 47/100\n",
            " - 2s - loss: 7.2189 - mean_absolute_error: 1.6844 - val_loss: 8.9352 - val_mean_absolute_error: 2.1956\n",
            "Epoch 48/100\n",
            " - 2s - loss: 7.2997 - mean_absolute_error: 1.6882 - val_loss: 9.3094 - val_mean_absolute_error: 2.3382\n",
            "Epoch 49/100\n",
            " - 2s - loss: 6.9003 - mean_absolute_error: 1.6611 - val_loss: 9.4290 - val_mean_absolute_error: 2.3386\n",
            "Epoch 50/100\n",
            " - 2s - loss: 6.8364 - mean_absolute_error: 1.6507 - val_loss: 9.0365 - val_mean_absolute_error: 2.3339\n",
            "Epoch 51/100\n",
            " - 2s - loss: 6.8553 - mean_absolute_error: 1.6319 - val_loss: 9.6643 - val_mean_absolute_error: 2.3761\n",
            "Epoch 52/100\n",
            " - 2s - loss: 6.5201 - mean_absolute_error: 1.6139 - val_loss: 8.4502 - val_mean_absolute_error: 2.2161\n",
            "Epoch 53/100\n",
            " - 2s - loss: 6.6709 - mean_absolute_error: 1.6788 - val_loss: 9.2073 - val_mean_absolute_error: 2.2839\n",
            "Epoch 54/100\n",
            " - 2s - loss: 6.2432 - mean_absolute_error: 1.5962 - val_loss: 12.7896 - val_mean_absolute_error: 2.7954\n",
            "Epoch 55/100\n",
            " - 2s - loss: 6.2567 - mean_absolute_error: 1.6481 - val_loss: 8.7778 - val_mean_absolute_error: 2.2503\n",
            "Epoch 56/100\n",
            " - 2s - loss: 6.5409 - mean_absolute_error: 1.6047 - val_loss: 9.6818 - val_mean_absolute_error: 2.3726\n",
            "Epoch 57/100\n",
            " - 2s - loss: 5.9476 - mean_absolute_error: 1.5819 - val_loss: 8.8378 - val_mean_absolute_error: 2.2318\n",
            "Epoch 58/100\n",
            " - 2s - loss: 6.0225 - mean_absolute_error: 1.6441 - val_loss: 8.6777 - val_mean_absolute_error: 2.2247\n",
            "Epoch 59/100\n",
            " - 2s - loss: 5.9763 - mean_absolute_error: 1.5793 - val_loss: 9.3657 - val_mean_absolute_error: 2.3464\n",
            "Epoch 60/100\n",
            " - 2s - loss: 5.9636 - mean_absolute_error: 1.5888 - val_loss: 7.3666 - val_mean_absolute_error: 2.0321\n",
            "Epoch 61/100\n",
            " - 2s - loss: 6.2152 - mean_absolute_error: 1.5597 - val_loss: 9.1632 - val_mean_absolute_error: 2.3333\n",
            "Epoch 62/100\n",
            " - 2s - loss: 5.6644 - mean_absolute_error: 1.5377 - val_loss: 9.0750 - val_mean_absolute_error: 2.3138\n",
            "Epoch 63/100\n",
            " - 2s - loss: 5.5204 - mean_absolute_error: 1.4908 - val_loss: 9.3418 - val_mean_absolute_error: 2.3740\n",
            "Epoch 64/100\n",
            " - 2s - loss: 5.4613 - mean_absolute_error: 1.4766 - val_loss: 8.9535 - val_mean_absolute_error: 2.2613\n",
            "Epoch 65/100\n",
            " - 2s - loss: 5.6635 - mean_absolute_error: 1.5208 - val_loss: 7.4756 - val_mean_absolute_error: 2.0347\n",
            "Epoch 66/100\n",
            " - 2s - loss: 5.6444 - mean_absolute_error: 1.5086 - val_loss: 8.0054 - val_mean_absolute_error: 2.1540\n",
            "Epoch 67/100\n",
            " - 2s - loss: 5.2330 - mean_absolute_error: 1.4686 - val_loss: 11.7702 - val_mean_absolute_error: 2.6482\n",
            "Epoch 68/100\n",
            " - 2s - loss: 5.6737 - mean_absolute_error: 1.5319 - val_loss: 8.9971 - val_mean_absolute_error: 2.2584\n",
            "Epoch 69/100\n",
            " - 2s - loss: 5.3214 - mean_absolute_error: 1.4847 - val_loss: 10.0558 - val_mean_absolute_error: 2.4598\n",
            "Epoch 70/100\n",
            " - 2s - loss: 5.4033 - mean_absolute_error: 1.4787 - val_loss: 8.7184 - val_mean_absolute_error: 2.2190\n",
            "Epoch 71/100\n",
            " - 2s - loss: 5.5273 - mean_absolute_error: 1.5065 - val_loss: 10.3443 - val_mean_absolute_error: 2.4079\n",
            "Epoch 72/100\n",
            " - 2s - loss: 5.2165 - mean_absolute_error: 1.4632 - val_loss: 14.3399 - val_mean_absolute_error: 2.8587\n"
          ],
          "name": "stdout"
        },
        {
          "output_type": "stream",
          "text": [
            "Epoch 73/100\n",
            " - 2s - loss: 5.2495 - mean_absolute_error: 1.4688 - val_loss: 11.1585 - val_mean_absolute_error: 2.4415\n",
            "Epoch 74/100\n",
            " - 2s - loss: 4.4805 - mean_absolute_error: 1.3864 - val_loss: 11.3273 - val_mean_absolute_error: 2.4633\n",
            "Epoch 75/100\n",
            " - 2s - loss: 5.0988 - mean_absolute_error: 1.4632 - val_loss: 9.1450 - val_mean_absolute_error: 2.2675\n",
            "Epoch 76/100\n",
            " - 2s - loss: 5.4266 - mean_absolute_error: 1.4659 - val_loss: 9.2283 - val_mean_absolute_error: 2.2687\n",
            "Epoch 77/100\n",
            " - 2s - loss: 4.8271 - mean_absolute_error: 1.3854 - val_loss: 9.9458 - val_mean_absolute_error: 2.2460\n",
            "Epoch 78/100\n",
            " - 2s - loss: 4.7261 - mean_absolute_error: 1.4385 - val_loss: 17.1178 - val_mean_absolute_error: 2.9386\n",
            "Epoch 79/100\n",
            " - 2s - loss: 4.8235 - mean_absolute_error: 1.4674 - val_loss: 7.8562 - val_mean_absolute_error: 2.0261\n",
            "Epoch 80/100\n",
            " - 2s - loss: 4.8993 - mean_absolute_error: 1.4474 - val_loss: 10.8978 - val_mean_absolute_error: 2.4651\n",
            "Epoch 81/100\n",
            " - 2s - loss: 4.5266 - mean_absolute_error: 1.4431 - val_loss: 8.9342 - val_mean_absolute_error: 2.2063\n",
            "Epoch 82/100\n",
            " - 2s - loss: 4.5164 - mean_absolute_error: 1.4050 - val_loss: 9.6709 - val_mean_absolute_error: 2.2615\n",
            "Epoch 83/100\n",
            " - 2s - loss: 4.6732 - mean_absolute_error: 1.4298 - val_loss: 8.5669 - val_mean_absolute_error: 2.1694\n",
            "Epoch 84/100\n",
            " - 2s - loss: 4.5007 - mean_absolute_error: 1.4740 - val_loss: 8.8200 - val_mean_absolute_error: 2.1994\n",
            "Epoch 85/100\n",
            " - 2s - loss: 4.5001 - mean_absolute_error: 1.3537 - val_loss: 12.2843 - val_mean_absolute_error: 2.6547\n",
            "Epoch 86/100\n",
            " - 2s - loss: 4.2694 - mean_absolute_error: 1.3859 - val_loss: 11.3478 - val_mean_absolute_error: 2.3958\n",
            "Epoch 87/100\n",
            " - 2s - loss: 4.3075 - mean_absolute_error: 1.3323 - val_loss: 10.5803 - val_mean_absolute_error: 2.4950\n",
            "Epoch 88/100\n",
            " - 2s - loss: 4.4972 - mean_absolute_error: 1.3807 - val_loss: 9.4630 - val_mean_absolute_error: 2.2599\n",
            "Epoch 89/100\n",
            " - 2s - loss: 4.3607 - mean_absolute_error: 1.3531 - val_loss: 9.5413 - val_mean_absolute_error: 2.2930\n",
            "Epoch 90/100\n",
            " - 2s - loss: 4.5095 - mean_absolute_error: 1.4385 - val_loss: 9.6117 - val_mean_absolute_error: 2.2375\n",
            "Epoch 91/100\n",
            " - 2s - loss: 4.4504 - mean_absolute_error: 1.4009 - val_loss: 12.3027 - val_mean_absolute_error: 2.5004\n",
            "Epoch 92/100\n",
            " - 2s - loss: 4.1233 - mean_absolute_error: 1.4021 - val_loss: 14.1499 - val_mean_absolute_error: 2.7470\n",
            "Epoch 93/100\n",
            " - 2s - loss: 3.9851 - mean_absolute_error: 1.3762 - val_loss: 15.4821 - val_mean_absolute_error: 2.8780\n",
            "Epoch 94/100\n",
            " - 2s - loss: 4.4395 - mean_absolute_error: 1.3716 - val_loss: 12.1321 - val_mean_absolute_error: 2.4831\n",
            "Epoch 95/100\n",
            " - 2s - loss: 3.7740 - mean_absolute_error: 1.3096 - val_loss: 10.2593 - val_mean_absolute_error: 2.2613\n",
            "Epoch 96/100\n",
            " - 2s - loss: 4.1464 - mean_absolute_error: 1.3847 - val_loss: 8.9005 - val_mean_absolute_error: 2.2148\n",
            "Epoch 97/100\n",
            " - 2s - loss: 3.9314 - mean_absolute_error: 1.3398 - val_loss: 8.6499 - val_mean_absolute_error: 2.1428\n",
            "Epoch 98/100\n",
            " - 2s - loss: 4.0241 - mean_absolute_error: 1.3376 - val_loss: 9.4117 - val_mean_absolute_error: 2.2190\n",
            "Epoch 99/100\n",
            " - 2s - loss: 4.1607 - mean_absolute_error: 1.2764 - val_loss: 11.3209 - val_mean_absolute_error: 2.4466\n",
            "Epoch 100/100\n",
            " - 2s - loss: 4.0295 - mean_absolute_error: 1.2920 - val_loss: 9.0605 - val_mean_absolute_error: 2.2001\n",
            "processing fold #  2\n",
            "Train on 303 samples, validate on 101 samples\n",
            "Epoch 1/100\n"
          ],
          "name": "stdout"
        },
        {
          "output_type": "stream",
          "text": [
            " - 2s - loss: 193.6122 - mean_absolute_error: 10.2644 - val_loss: 33.0595 - val_mean_absolute_error: 3.8035\n",
            "Epoch 2/100\n",
            " - 2s - loss: 28.3937 - mean_absolute_error: 3.7039 - val_loss: 23.1496 - val_mean_absolute_error: 3.3257\n",
            "Epoch 3/100\n",
            " - 2s - loss: 19.8315 - mean_absolute_error: 3.1649 - val_loss: 20.5515 - val_mean_absolute_error: 2.9490\n",
            "Epoch 4/100\n",
            " - 2s - loss: 16.2212 - mean_absolute_error: 2.7842 - val_loss: 17.3995 - val_mean_absolute_error: 2.6206\n",
            "Epoch 5/100\n",
            " - 2s - loss: 14.0283 - mean_absolute_error: 2.6240 - val_loss: 17.8744 - val_mean_absolute_error: 2.6678\n",
            "Epoch 6/100\n",
            " - 2s - loss: 12.5096 - mean_absolute_error: 2.4976 - val_loss: 16.0593 - val_mean_absolute_error: 2.6571\n",
            "Epoch 7/100\n",
            " - 2s - loss: 11.3146 - mean_absolute_error: 2.4308 - val_loss: 16.7361 - val_mean_absolute_error: 2.6602\n",
            "Epoch 8/100\n",
            " - 2s - loss: 10.2922 - mean_absolute_error: 2.2853 - val_loss: 16.8216 - val_mean_absolute_error: 2.6425\n",
            "Epoch 9/100\n",
            " - 2s - loss: 10.7829 - mean_absolute_error: 2.2391 - val_loss: 16.2747 - val_mean_absolute_error: 2.5664\n",
            "Epoch 10/100\n",
            " - 2s - loss: 9.7661 - mean_absolute_error: 2.2222 - val_loss: 14.5477 - val_mean_absolute_error: 2.4651\n",
            "Epoch 11/100\n",
            " - 2s - loss: 9.5611 - mean_absolute_error: 2.1551 - val_loss: 17.1770 - val_mean_absolute_error: 2.9718\n",
            "Epoch 12/100\n",
            " - 2s - loss: 8.9735 - mean_absolute_error: 2.1548 - val_loss: 14.8639 - val_mean_absolute_error: 2.4776\n",
            "Epoch 13/100\n",
            " - 2s - loss: 8.7826 - mean_absolute_error: 2.0128 - val_loss: 15.1668 - val_mean_absolute_error: 2.5564\n",
            "Epoch 14/100\n",
            " - 2s - loss: 8.4736 - mean_absolute_error: 2.0291 - val_loss: 17.0140 - val_mean_absolute_error: 2.9185\n",
            "Epoch 15/100\n",
            " - 2s - loss: 8.0458 - mean_absolute_error: 2.0811 - val_loss: 18.2054 - val_mean_absolute_error: 2.8996\n",
            "Epoch 16/100\n",
            " - 2s - loss: 8.3748 - mean_absolute_error: 2.0077 - val_loss: 16.0703 - val_mean_absolute_error: 2.7009\n",
            "Epoch 17/100\n",
            " - 2s - loss: 7.9245 - mean_absolute_error: 1.9863 - val_loss: 16.5542 - val_mean_absolute_error: 2.7510\n",
            "Epoch 18/100\n",
            " - 2s - loss: 8.0804 - mean_absolute_error: 1.9635 - val_loss: 15.5718 - val_mean_absolute_error: 2.6564\n",
            "Epoch 19/100\n",
            " - 2s - loss: 7.2612 - mean_absolute_error: 1.9236 - val_loss: 15.5857 - val_mean_absolute_error: 2.6803\n",
            "Epoch 20/100\n",
            " - 2s - loss: 7.7209 - mean_absolute_error: 1.9513 - val_loss: 16.3650 - val_mean_absolute_error: 2.7110\n",
            "Epoch 21/100\n",
            " - 2s - loss: 7.5198 - mean_absolute_error: 1.9166 - val_loss: 15.5983 - val_mean_absolute_error: 2.5711\n",
            "Epoch 22/100\n",
            " - 2s - loss: 7.4294 - mean_absolute_error: 1.8837 - val_loss: 14.2754 - val_mean_absolute_error: 2.4632\n",
            "Epoch 23/100\n",
            " - 2s - loss: 7.0984 - mean_absolute_error: 1.8648 - val_loss: 13.9615 - val_mean_absolute_error: 2.4797\n",
            "Epoch 24/100\n",
            " - 2s - loss: 6.8898 - mean_absolute_error: 1.8247 - val_loss: 17.8058 - val_mean_absolute_error: 2.8422\n",
            "Epoch 25/100\n",
            " - 2s - loss: 6.9960 - mean_absolute_error: 1.8209 - val_loss: 16.8875 - val_mean_absolute_error: 2.7491\n",
            "Epoch 26/100\n",
            " - 2s - loss: 6.9846 - mean_absolute_error: 1.8374 - val_loss: 15.0822 - val_mean_absolute_error: 2.5189\n",
            "Epoch 27/100\n",
            " - 2s - loss: 6.9266 - mean_absolute_error: 1.7690 - val_loss: 14.7221 - val_mean_absolute_error: 2.5407\n",
            "Epoch 28/100\n",
            " - 2s - loss: 6.4365 - mean_absolute_error: 1.7328 - val_loss: 15.8629 - val_mean_absolute_error: 2.7663\n",
            "Epoch 29/100\n",
            " - 2s - loss: 6.6531 - mean_absolute_error: 1.7799 - val_loss: 15.8215 - val_mean_absolute_error: 2.7338\n"
          ],
          "name": "stdout"
        },
        {
          "output_type": "stream",
          "text": [
            "Epoch 30/100\n",
            " - 2s - loss: 6.0298 - mean_absolute_error: 1.7278 - val_loss: 15.7568 - val_mean_absolute_error: 2.6628\n",
            "Epoch 31/100\n",
            " - 2s - loss: 6.2478 - mean_absolute_error: 1.7562 - val_loss: 14.3359 - val_mean_absolute_error: 2.5889\n",
            "Epoch 32/100\n",
            " - 2s - loss: 6.3155 - mean_absolute_error: 1.6893 - val_loss: 15.4129 - val_mean_absolute_error: 2.5763\n",
            "Epoch 33/100\n",
            " - 2s - loss: 6.0891 - mean_absolute_error: 1.6975 - val_loss: 15.1418 - val_mean_absolute_error: 2.6900\n",
            "Epoch 34/100\n",
            " - 2s - loss: 5.9686 - mean_absolute_error: 1.6395 - val_loss: 15.6048 - val_mean_absolute_error: 2.7213\n",
            "Epoch 35/100\n",
            " - 2s - loss: 5.9114 - mean_absolute_error: 1.7239 - val_loss: 14.5459 - val_mean_absolute_error: 2.5284\n",
            "Epoch 36/100\n",
            " - 2s - loss: 5.7817 - mean_absolute_error: 1.6712 - val_loss: 15.6474 - val_mean_absolute_error: 2.5720\n",
            "Epoch 37/100\n",
            " - 2s - loss: 6.0534 - mean_absolute_error: 1.6472 - val_loss: 14.2695 - val_mean_absolute_error: 2.5260\n",
            "Epoch 38/100\n",
            " - 2s - loss: 5.9000 - mean_absolute_error: 1.6759 - val_loss: 14.4045 - val_mean_absolute_error: 2.4478\n",
            "Epoch 39/100\n",
            " - 2s - loss: 6.0095 - mean_absolute_error: 1.7064 - val_loss: 15.3987 - val_mean_absolute_error: 2.6423\n",
            "Epoch 40/100\n",
            " - 2s - loss: 5.6939 - mean_absolute_error: 1.5883 - val_loss: 17.8290 - val_mean_absolute_error: 2.8701\n",
            "Epoch 41/100\n",
            " - 2s - loss: 5.8262 - mean_absolute_error: 1.5876 - val_loss: 15.1425 - val_mean_absolute_error: 2.5915\n",
            "Epoch 42/100\n",
            " - 2s - loss: 5.1840 - mean_absolute_error: 1.6186 - val_loss: 14.6269 - val_mean_absolute_error: 2.5133\n",
            "Epoch 43/100\n",
            " - 2s - loss: 5.2674 - mean_absolute_error: 1.6104 - val_loss: 15.5509 - val_mean_absolute_error: 2.5587\n",
            "Epoch 44/100\n",
            " - 2s - loss: 5.7113 - mean_absolute_error: 1.5765 - val_loss: 14.3888 - val_mean_absolute_error: 2.5998\n",
            "Epoch 45/100\n",
            " - 2s - loss: 5.2534 - mean_absolute_error: 1.6154 - val_loss: 16.3597 - val_mean_absolute_error: 2.7807\n",
            "Epoch 46/100\n",
            " - 2s - loss: 5.1482 - mean_absolute_error: 1.5682 - val_loss: 15.6137 - val_mean_absolute_error: 2.6093\n",
            "Epoch 47/100\n",
            " - 2s - loss: 5.3589 - mean_absolute_error: 1.5624 - val_loss: 18.1263 - val_mean_absolute_error: 2.7930\n",
            "Epoch 48/100\n",
            " - 2s - loss: 5.3451 - mean_absolute_error: 1.5633 - val_loss: 15.4656 - val_mean_absolute_error: 2.6253\n",
            "Epoch 49/100\n",
            " - 2s - loss: 5.0142 - mean_absolute_error: 1.5747 - val_loss: 14.6007 - val_mean_absolute_error: 2.4452\n",
            "Epoch 50/100\n",
            " - 2s - loss: 4.7967 - mean_absolute_error: 1.5333 - val_loss: 16.7954 - val_mean_absolute_error: 2.6255\n",
            "Epoch 51/100\n",
            " - 2s - loss: 4.9386 - mean_absolute_error: 1.5206 - val_loss: 13.5576 - val_mean_absolute_error: 2.4171\n",
            "Epoch 52/100\n",
            " - 2s - loss: 4.8974 - mean_absolute_error: 1.5706 - val_loss: 15.2533 - val_mean_absolute_error: 2.6561\n",
            "Epoch 53/100\n",
            " - 2s - loss: 4.8537 - mean_absolute_error: 1.5459 - val_loss: 15.4865 - val_mean_absolute_error: 2.6556\n",
            "Epoch 54/100\n",
            " - 2s - loss: 4.9425 - mean_absolute_error: 1.5142 - val_loss: 15.3108 - val_mean_absolute_error: 2.5174\n",
            "Epoch 55/100\n",
            " - 2s - loss: 4.8520 - mean_absolute_error: 1.5277 - val_loss: 15.0608 - val_mean_absolute_error: 2.5938\n",
            "Epoch 56/100\n",
            " - 2s - loss: 4.5338 - mean_absolute_error: 1.5062 - val_loss: 15.5284 - val_mean_absolute_error: 2.6470\n",
            "Epoch 57/100\n",
            " - 2s - loss: 4.5511 - mean_absolute_error: 1.5379 - val_loss: 16.5068 - val_mean_absolute_error: 2.7920\n",
            "Epoch 58/100\n",
            " - 2s - loss: 4.2522 - mean_absolute_error: 1.4890 - val_loss: 17.3468 - val_mean_absolute_error: 2.9650\n"
          ],
          "name": "stdout"
        },
        {
          "output_type": "stream",
          "text": [
            "Epoch 59/100\n",
            " - 2s - loss: 4.5831 - mean_absolute_error: 1.5016 - val_loss: 15.9219 - val_mean_absolute_error: 2.7189\n",
            "Epoch 60/100\n",
            " - 2s - loss: 4.5379 - mean_absolute_error: 1.5259 - val_loss: 15.1699 - val_mean_absolute_error: 2.5772\n",
            "Epoch 61/100\n",
            " - 2s - loss: 4.4870 - mean_absolute_error: 1.4962 - val_loss: 15.6647 - val_mean_absolute_error: 2.5673\n",
            "Epoch 62/100\n",
            " - 2s - loss: 4.2369 - mean_absolute_error: 1.4835 - val_loss: 17.3341 - val_mean_absolute_error: 2.8667\n",
            "Epoch 63/100\n",
            " - 2s - loss: 4.1059 - mean_absolute_error: 1.4906 - val_loss: 17.1404 - val_mean_absolute_error: 2.6626\n",
            "Epoch 64/100\n",
            " - 2s - loss: 4.2632 - mean_absolute_error: 1.4803 - val_loss: 15.6649 - val_mean_absolute_error: 2.7041\n",
            "Epoch 65/100\n",
            " - 2s - loss: 4.0964 - mean_absolute_error: 1.4215 - val_loss: 17.4816 - val_mean_absolute_error: 2.7725\n",
            "Epoch 66/100\n",
            " - 2s - loss: 3.9117 - mean_absolute_error: 1.4302 - val_loss: 16.3615 - val_mean_absolute_error: 2.6716\n",
            "Epoch 67/100\n",
            " - 2s - loss: 4.3419 - mean_absolute_error: 1.4543 - val_loss: 15.3151 - val_mean_absolute_error: 2.6366\n",
            "Epoch 68/100\n",
            " - 2s - loss: 4.1135 - mean_absolute_error: 1.4496 - val_loss: 16.3440 - val_mean_absolute_error: 2.7268\n",
            "Epoch 69/100\n",
            " - 2s - loss: 4.1014 - mean_absolute_error: 1.4333 - val_loss: 17.7287 - val_mean_absolute_error: 2.8685\n",
            "Epoch 70/100\n",
            " - 2s - loss: 4.0781 - mean_absolute_error: 1.3712 - val_loss: 15.0209 - val_mean_absolute_error: 2.5700\n",
            "Epoch 71/100\n",
            " - 2s - loss: 4.1910 - mean_absolute_error: 1.4280 - val_loss: 16.2037 - val_mean_absolute_error: 2.6230\n",
            "Epoch 72/100\n",
            " - 2s - loss: 3.7322 - mean_absolute_error: 1.3307 - val_loss: 15.7444 - val_mean_absolute_error: 2.6082\n",
            "Epoch 73/100\n",
            " - 2s - loss: 3.9264 - mean_absolute_error: 1.4160 - val_loss: 16.4830 - val_mean_absolute_error: 2.6452\n",
            "Epoch 74/100\n",
            " - 2s - loss: 3.8860 - mean_absolute_error: 1.4460 - val_loss: 18.9953 - val_mean_absolute_error: 2.9384\n",
            "Epoch 75/100\n",
            " - 2s - loss: 3.9062 - mean_absolute_error: 1.4067 - val_loss: 15.4408 - val_mean_absolute_error: 2.5984\n",
            "Epoch 76/100\n",
            " - 2s - loss: 4.0310 - mean_absolute_error: 1.3987 - val_loss: 15.8379 - val_mean_absolute_error: 2.5681\n",
            "Epoch 77/100\n",
            " - 2s - loss: 3.9985 - mean_absolute_error: 1.3727 - val_loss: 16.5626 - val_mean_absolute_error: 2.6829\n",
            "Epoch 78/100\n",
            " - 2s - loss: 3.5417 - mean_absolute_error: 1.3603 - val_loss: 19.2134 - val_mean_absolute_error: 2.8648\n",
            "Epoch 79/100\n",
            " - 2s - loss: 3.4607 - mean_absolute_error: 1.4157 - val_loss: 16.9038 - val_mean_absolute_error: 2.6966\n",
            "Epoch 80/100\n",
            " - 2s - loss: 3.8773 - mean_absolute_error: 1.3759 - val_loss: 16.9647 - val_mean_absolute_error: 2.7737\n",
            "Epoch 81/100\n",
            " - 2s - loss: 3.8649 - mean_absolute_error: 1.3648 - val_loss: 16.4780 - val_mean_absolute_error: 2.7163\n",
            "Epoch 82/100\n",
            " - 2s - loss: 3.7904 - mean_absolute_error: 1.3432 - val_loss: 17.7870 - val_mean_absolute_error: 2.7786\n",
            "Epoch 83/100\n",
            " - 2s - loss: 3.7829 - mean_absolute_error: 1.4037 - val_loss: 18.0627 - val_mean_absolute_error: 2.7281\n",
            "Epoch 84/100\n",
            " - 2s - loss: 3.6123 - mean_absolute_error: 1.3731 - val_loss: 17.2326 - val_mean_absolute_error: 2.7177\n",
            "Epoch 85/100\n",
            " - 2s - loss: 3.6027 - mean_absolute_error: 1.3592 - val_loss: 17.7600 - val_mean_absolute_error: 2.6955\n",
            "Epoch 86/100\n",
            " - 2s - loss: 3.4488 - mean_absolute_error: 1.3321 - val_loss: 19.3550 - val_mean_absolute_error: 2.9409\n",
            "Epoch 87/100\n",
            " - 2s - loss: 3.4570 - mean_absolute_error: 1.2963 - val_loss: 17.7102 - val_mean_absolute_error: 2.8159\n"
          ],
          "name": "stdout"
        },
        {
          "output_type": "stream",
          "text": [
            "Epoch 88/100\n",
            " - 2s - loss: 3.1973 - mean_absolute_error: 1.3119 - val_loss: 16.5132 - val_mean_absolute_error: 2.6634\n",
            "Epoch 89/100\n",
            " - 2s - loss: 3.3624 - mean_absolute_error: 1.2468 - val_loss: 18.4926 - val_mean_absolute_error: 2.8324\n",
            "Epoch 90/100\n",
            " - 2s - loss: 3.4696 - mean_absolute_error: 1.3414 - val_loss: 16.5457 - val_mean_absolute_error: 2.6521\n",
            "Epoch 91/100\n",
            " - 2s - loss: 3.3686 - mean_absolute_error: 1.3224 - val_loss: 17.9005 - val_mean_absolute_error: 2.8446\n",
            "Epoch 92/100\n",
            " - 2s - loss: 3.0388 - mean_absolute_error: 1.2873 - val_loss: 19.2239 - val_mean_absolute_error: 2.8176\n",
            "Epoch 93/100\n",
            " - 2s - loss: 3.0829 - mean_absolute_error: 1.2527 - val_loss: 17.7574 - val_mean_absolute_error: 2.6854\n",
            "Epoch 94/100\n",
            " - 2s - loss: 3.0683 - mean_absolute_error: 1.3094 - val_loss: 17.0625 - val_mean_absolute_error: 2.7048\n",
            "Epoch 95/100\n",
            " - 2s - loss: 3.1666 - mean_absolute_error: 1.2639 - val_loss: 18.4209 - val_mean_absolute_error: 2.7240\n",
            "Epoch 96/100\n",
            " - 2s - loss: 2.8888 - mean_absolute_error: 1.2402 - val_loss: 16.8677 - val_mean_absolute_error: 2.6275\n",
            "Epoch 97/100\n",
            " - 2s - loss: 2.8170 - mean_absolute_error: 1.2373 - val_loss: 17.6235 - val_mean_absolute_error: 2.7334\n",
            "Epoch 98/100\n",
            " - 2s - loss: 2.9924 - mean_absolute_error: 1.2752 - val_loss: 18.7293 - val_mean_absolute_error: 2.8834\n",
            "Epoch 99/100\n",
            " - 2s - loss: 3.1867 - mean_absolute_error: 1.2934 - val_loss: 18.7383 - val_mean_absolute_error: 2.7764\n",
            "Epoch 100/100\n",
            " - 2s - loss: 3.1040 - mean_absolute_error: 1.2894 - val_loss: 20.2350 - val_mean_absolute_error: 2.8751\n",
            "processing fold #  3\n",
            "Train on 303 samples, validate on 101 samples\n",
            "Epoch 1/100\n",
            " - 2s - loss: 237.9189 - mean_absolute_error: 11.7524 - val_loss: 89.4352 - val_mean_absolute_error: 6.6890\n",
            "Epoch 2/100\n",
            " - 2s - loss: 32.0025 - mean_absolute_error: 3.8223 - val_loss: 44.5701 - val_mean_absolute_error: 4.1273\n",
            "Epoch 3/100\n",
            " - 2s - loss: 19.1769 - mean_absolute_error: 2.9554 - val_loss: 48.5975 - val_mean_absolute_error: 4.3934\n",
            "Epoch 4/100\n",
            " - 2s - loss: 18.4259 - mean_absolute_error: 2.7014 - val_loss: 35.0964 - val_mean_absolute_error: 3.5330\n",
            "Epoch 5/100\n",
            " - 2s - loss: 16.3994 - mean_absolute_error: 2.4754 - val_loss: 31.6126 - val_mean_absolute_error: 3.3275\n",
            "Epoch 6/100\n",
            " - 2s - loss: 15.0507 - mean_absolute_error: 2.3974 - val_loss: 28.1245 - val_mean_absolute_error: 3.1829\n",
            "Epoch 7/100\n",
            " - 2s - loss: 13.7940 - mean_absolute_error: 2.3955 - val_loss: 27.7558 - val_mean_absolute_error: 3.1010\n",
            "Epoch 8/100\n",
            " - 2s - loss: 13.0967 - mean_absolute_error: 2.2584 - val_loss: 27.6456 - val_mean_absolute_error: 3.0713\n",
            "Epoch 9/100\n",
            " - 2s - loss: 12.9067 - mean_absolute_error: 2.2277 - val_loss: 22.2658 - val_mean_absolute_error: 2.8111\n",
            "Epoch 10/100\n",
            " - 2s - loss: 12.0626 - mean_absolute_error: 2.2167 - val_loss: 25.6450 - val_mean_absolute_error: 2.9619\n",
            "Epoch 11/100\n",
            " - 2s - loss: 12.0581 - mean_absolute_error: 2.1555 - val_loss: 24.7813 - val_mean_absolute_error: 3.0071\n",
            "Epoch 12/100\n",
            " - 2s - loss: 11.4653 - mean_absolute_error: 2.1094 - val_loss: 22.9132 - val_mean_absolute_error: 2.9813\n",
            "Epoch 13/100\n",
            " - 2s - loss: 11.0321 - mean_absolute_error: 2.0683 - val_loss: 19.4980 - val_mean_absolute_error: 2.6094\n",
            "Epoch 14/100\n",
            " - 2s - loss: 11.0278 - mean_absolute_error: 2.1014 - val_loss: 18.9822 - val_mean_absolute_error: 2.6029\n",
            "Epoch 15/100\n",
            " - 2s - loss: 10.0230 - mean_absolute_error: 1.9647 - val_loss: 18.6118 - val_mean_absolute_error: 2.8961\n",
            "Epoch 16/100\n"
          ],
          "name": "stdout"
        },
        {
          "output_type": "stream",
          "text": [
            " - 2s - loss: 10.0845 - mean_absolute_error: 2.0306 - val_loss: 18.7389 - val_mean_absolute_error: 2.8464\n",
            "Epoch 17/100\n",
            " - 2s - loss: 10.0461 - mean_absolute_error: 1.9896 - val_loss: 19.6427 - val_mean_absolute_error: 2.7346\n",
            "Epoch 18/100\n",
            " - 2s - loss: 9.7959 - mean_absolute_error: 2.0268 - val_loss: 18.9893 - val_mean_absolute_error: 2.7522\n",
            "Epoch 19/100\n",
            " - 2s - loss: 9.0955 - mean_absolute_error: 1.9361 - val_loss: 16.1918 - val_mean_absolute_error: 2.7421\n",
            "Epoch 20/100\n",
            " - 2s - loss: 9.7665 - mean_absolute_error: 1.9444 - val_loss: 15.7499 - val_mean_absolute_error: 2.5522\n",
            "Epoch 21/100\n",
            " - 2s - loss: 8.8989 - mean_absolute_error: 1.9057 - val_loss: 15.6927 - val_mean_absolute_error: 2.5168\n",
            "Epoch 22/100\n",
            " - 2s - loss: 9.0499 - mean_absolute_error: 1.9313 - val_loss: 14.1512 - val_mean_absolute_error: 2.5798\n",
            "Epoch 23/100\n",
            " - 2s - loss: 8.5897 - mean_absolute_error: 1.9280 - val_loss: 17.8565 - val_mean_absolute_error: 2.7283\n",
            "Epoch 24/100\n",
            " - 2s - loss: 8.7324 - mean_absolute_error: 1.8707 - val_loss: 13.8873 - val_mean_absolute_error: 2.4437\n",
            "Epoch 25/100\n",
            " - 2s - loss: 8.7238 - mean_absolute_error: 1.8482 - val_loss: 13.9571 - val_mean_absolute_error: 2.5307\n",
            "Epoch 26/100\n",
            " - 2s - loss: 8.6577 - mean_absolute_error: 1.8647 - val_loss: 14.1685 - val_mean_absolute_error: 2.4354\n",
            "Epoch 27/100\n",
            " - 2s - loss: 8.4816 - mean_absolute_error: 1.8201 - val_loss: 13.4227 - val_mean_absolute_error: 2.4914\n",
            "Epoch 28/100\n",
            " - 2s - loss: 7.7992 - mean_absolute_error: 1.8807 - val_loss: 14.7211 - val_mean_absolute_error: 2.6079\n",
            "Epoch 29/100\n",
            " - 2s - loss: 8.0680 - mean_absolute_error: 1.7785 - val_loss: 14.6332 - val_mean_absolute_error: 2.5755\n",
            "Epoch 30/100\n",
            " - 2s - loss: 8.0067 - mean_absolute_error: 1.8144 - val_loss: 12.4774 - val_mean_absolute_error: 2.4026\n",
            "Epoch 31/100\n",
            " - 2s - loss: 7.9320 - mean_absolute_error: 1.8387 - val_loss: 13.9493 - val_mean_absolute_error: 2.5862\n",
            "Epoch 32/100\n",
            " - 2s - loss: 7.8401 - mean_absolute_error: 1.8080 - val_loss: 15.3136 - val_mean_absolute_error: 2.8646\n",
            "Epoch 33/100\n",
            " - 2s - loss: 8.0466 - mean_absolute_error: 1.7640 - val_loss: 12.7504 - val_mean_absolute_error: 2.4462\n",
            "Epoch 34/100\n",
            " - 2s - loss: 7.5544 - mean_absolute_error: 1.8436 - val_loss: 14.1990 - val_mean_absolute_error: 2.5005\n",
            "Epoch 35/100\n",
            " - 2s - loss: 7.5323 - mean_absolute_error: 1.7658 - val_loss: 12.7959 - val_mean_absolute_error: 2.4688\n",
            "Epoch 36/100\n",
            " - 2s - loss: 7.3449 - mean_absolute_error: 1.7649 - val_loss: 14.0793 - val_mean_absolute_error: 2.6903\n",
            "Epoch 37/100\n",
            " - 2s - loss: 7.2566 - mean_absolute_error: 1.7522 - val_loss: 13.1553 - val_mean_absolute_error: 2.6619\n",
            "Epoch 38/100\n",
            " - 2s - loss: 7.2084 - mean_absolute_error: 1.7331 - val_loss: 11.8941 - val_mean_absolute_error: 2.3681\n",
            "Epoch 39/100\n",
            " - 2s - loss: 7.3016 - mean_absolute_error: 1.7432 - val_loss: 11.3603 - val_mean_absolute_error: 2.3192\n",
            "Epoch 40/100\n",
            " - 2s - loss: 7.0908 - mean_absolute_error: 1.7443 - val_loss: 15.0328 - val_mean_absolute_error: 2.7941\n",
            "Epoch 41/100\n",
            " - 2s - loss: 6.8917 - mean_absolute_error: 1.7641 - val_loss: 12.9255 - val_mean_absolute_error: 2.7206\n",
            "Epoch 42/100\n",
            " - 2s - loss: 6.8557 - mean_absolute_error: 1.7559 - val_loss: 12.9333 - val_mean_absolute_error: 2.4762\n",
            "Epoch 43/100\n",
            " - 2s - loss: 7.1247 - mean_absolute_error: 1.7261 - val_loss: 11.7239 - val_mean_absolute_error: 2.4019\n",
            "Epoch 44/100\n",
            " - 2s - loss: 7.0283 - mean_absolute_error: 1.7073 - val_loss: 12.5373 - val_mean_absolute_error: 2.5821\n"
          ],
          "name": "stdout"
        },
        {
          "output_type": "stream",
          "text": [
            "Epoch 45/100\n",
            " - 2s - loss: 6.9609 - mean_absolute_error: 1.6454 - val_loss: 12.5991 - val_mean_absolute_error: 2.4746\n",
            "Epoch 46/100\n",
            " - 2s - loss: 6.5731 - mean_absolute_error: 1.6968 - val_loss: 11.5860 - val_mean_absolute_error: 2.3780\n",
            "Epoch 47/100\n",
            " - 2s - loss: 6.7951 - mean_absolute_error: 1.6346 - val_loss: 11.1563 - val_mean_absolute_error: 2.3278\n",
            "Epoch 48/100\n",
            " - 2s - loss: 6.6718 - mean_absolute_error: 1.6114 - val_loss: 15.8304 - val_mean_absolute_error: 2.9610\n",
            "Epoch 49/100\n",
            " - 2s - loss: 6.6026 - mean_absolute_error: 1.6471 - val_loss: 12.5546 - val_mean_absolute_error: 2.6033\n",
            "Epoch 50/100\n",
            " - 2s - loss: 6.4549 - mean_absolute_error: 1.6153 - val_loss: 11.2850 - val_mean_absolute_error: 2.3476\n",
            "Epoch 51/100\n",
            " - 2s - loss: 6.4271 - mean_absolute_error: 1.6272 - val_loss: 12.8295 - val_mean_absolute_error: 2.6787\n",
            "Epoch 52/100\n",
            " - 2s - loss: 6.4579 - mean_absolute_error: 1.5880 - val_loss: 12.2057 - val_mean_absolute_error: 2.4337\n",
            "Epoch 53/100\n",
            " - 2s - loss: 5.8523 - mean_absolute_error: 1.5920 - val_loss: 11.0129 - val_mean_absolute_error: 2.2493\n",
            "Epoch 54/100\n",
            " - 2s - loss: 6.4558 - mean_absolute_error: 1.6294 - val_loss: 11.8018 - val_mean_absolute_error: 2.4779\n",
            "Epoch 55/100\n",
            " - 2s - loss: 6.2884 - mean_absolute_error: 1.5962 - val_loss: 11.2601 - val_mean_absolute_error: 2.3199\n",
            "Epoch 56/100\n",
            " - 2s - loss: 6.1617 - mean_absolute_error: 1.5519 - val_loss: 11.4560 - val_mean_absolute_error: 2.5053\n",
            "Epoch 57/100\n",
            " - 2s - loss: 5.9134 - mean_absolute_error: 1.5763 - val_loss: 11.2343 - val_mean_absolute_error: 2.3316\n",
            "Epoch 58/100\n",
            " - 2s - loss: 6.4045 - mean_absolute_error: 1.5745 - val_loss: 12.1148 - val_mean_absolute_error: 2.4068\n",
            "Epoch 59/100\n",
            " - 2s - loss: 6.0275 - mean_absolute_error: 1.5545 - val_loss: 11.2770 - val_mean_absolute_error: 2.3970\n",
            "Epoch 60/100\n",
            " - 2s - loss: 6.1049 - mean_absolute_error: 1.5720 - val_loss: 12.1698 - val_mean_absolute_error: 2.5138\n",
            "Epoch 61/100\n",
            " - 2s - loss: 6.0758 - mean_absolute_error: 1.5667 - val_loss: 12.1170 - val_mean_absolute_error: 2.4541\n",
            "Epoch 62/100\n",
            " - 2s - loss: 5.6628 - mean_absolute_error: 1.4974 - val_loss: 11.9317 - val_mean_absolute_error: 2.3523\n",
            "Epoch 63/100\n",
            " - 2s - loss: 5.8356 - mean_absolute_error: 1.5396 - val_loss: 12.3625 - val_mean_absolute_error: 2.4767\n",
            "Epoch 64/100\n",
            " - 2s - loss: 5.4586 - mean_absolute_error: 1.4904 - val_loss: 12.1483 - val_mean_absolute_error: 2.5183\n",
            "Epoch 65/100\n",
            " - 2s - loss: 5.5072 - mean_absolute_error: 1.4696 - val_loss: 12.5314 - val_mean_absolute_error: 2.5086\n",
            "Epoch 66/100\n",
            " - 2s - loss: 5.7091 - mean_absolute_error: 1.4913 - val_loss: 11.1924 - val_mean_absolute_error: 2.3425\n",
            "Epoch 67/100\n",
            " - 2s - loss: 5.0222 - mean_absolute_error: 1.4196 - val_loss: 11.6826 - val_mean_absolute_error: 2.3265\n",
            "Epoch 68/100\n",
            " - 2s - loss: 5.6501 - mean_absolute_error: 1.4852 - val_loss: 11.2288 - val_mean_absolute_error: 2.3355\n",
            "Epoch 69/100\n",
            " - 2s - loss: 5.5365 - mean_absolute_error: 1.4638 - val_loss: 11.1964 - val_mean_absolute_error: 2.2795\n",
            "Epoch 70/100\n",
            " - 2s - loss: 5.0911 - mean_absolute_error: 1.4933 - val_loss: 12.1966 - val_mean_absolute_error: 2.4977\n",
            "Epoch 71/100\n",
            " - 2s - loss: 5.2044 - mean_absolute_error: 1.4511 - val_loss: 11.7784 - val_mean_absolute_error: 2.3510\n",
            "Epoch 72/100\n",
            " - 2s - loss: 5.0852 - mean_absolute_error: 1.4409 - val_loss: 11.0765 - val_mean_absolute_error: 2.2930\n",
            "Epoch 73/100\n",
            " - 2s - loss: 5.3835 - mean_absolute_error: 1.4852 - val_loss: 10.6972 - val_mean_absolute_error: 2.3359\n"
          ],
          "name": "stdout"
        },
        {
          "output_type": "stream",
          "text": [
            "Epoch 74/100\n",
            " - 2s - loss: 5.2076 - mean_absolute_error: 1.3991 - val_loss: 11.1477 - val_mean_absolute_error: 2.3328\n",
            "Epoch 75/100\n",
            " - 2s - loss: 5.1474 - mean_absolute_error: 1.4414 - val_loss: 11.3765 - val_mean_absolute_error: 2.3934\n",
            "Epoch 76/100\n",
            " - 2s - loss: 4.8465 - mean_absolute_error: 1.3825 - val_loss: 12.5279 - val_mean_absolute_error: 2.4926\n",
            "Epoch 77/100\n",
            " - 2s - loss: 4.5591 - mean_absolute_error: 1.3347 - val_loss: 11.4430 - val_mean_absolute_error: 2.3788\n",
            "Epoch 78/100\n",
            " - 2s - loss: 5.0363 - mean_absolute_error: 1.3959 - val_loss: 11.9437 - val_mean_absolute_error: 2.4517\n",
            "Epoch 79/100\n",
            " - 2s - loss: 4.9336 - mean_absolute_error: 1.4652 - val_loss: 11.8979 - val_mean_absolute_error: 2.5319\n",
            "Epoch 80/100\n",
            " - 2s - loss: 4.6917 - mean_absolute_error: 1.3930 - val_loss: 11.8934 - val_mean_absolute_error: 2.4834\n",
            "Epoch 81/100\n",
            " - 2s - loss: 4.6988 - mean_absolute_error: 1.3885 - val_loss: 11.7972 - val_mean_absolute_error: 2.4723\n",
            "Epoch 82/100\n",
            " - 2s - loss: 4.8093 - mean_absolute_error: 1.4229 - val_loss: 11.1303 - val_mean_absolute_error: 2.3709\n",
            "Epoch 83/100\n",
            " - 2s - loss: 4.6442 - mean_absolute_error: 1.3636 - val_loss: 11.7683 - val_mean_absolute_error: 2.4083\n",
            "Epoch 84/100\n",
            " - 2s - loss: 5.0417 - mean_absolute_error: 1.3925 - val_loss: 11.7086 - val_mean_absolute_error: 2.4961\n",
            "Epoch 85/100\n",
            " - 2s - loss: 4.7231 - mean_absolute_error: 1.3173 - val_loss: 11.0965 - val_mean_absolute_error: 2.2869\n",
            "Epoch 86/100\n",
            " - 2s - loss: 4.4601 - mean_absolute_error: 1.3377 - val_loss: 11.2070 - val_mean_absolute_error: 2.3654\n",
            "Epoch 87/100\n",
            " - 2s - loss: 4.4471 - mean_absolute_error: 1.3862 - val_loss: 13.6671 - val_mean_absolute_error: 2.7575\n",
            "Epoch 88/100\n",
            " - 2s - loss: 4.7593 - mean_absolute_error: 1.3441 - val_loss: 10.9485 - val_mean_absolute_error: 2.3053\n",
            "Epoch 89/100\n",
            " - 2s - loss: 4.1712 - mean_absolute_error: 1.3188 - val_loss: 12.1502 - val_mean_absolute_error: 2.4372\n",
            "Epoch 90/100\n",
            " - 2s - loss: 4.5441 - mean_absolute_error: 1.3854 - val_loss: 12.1160 - val_mean_absolute_error: 2.4980\n",
            "Epoch 91/100\n",
            " - 2s - loss: 4.5468 - mean_absolute_error: 1.3738 - val_loss: 11.3497 - val_mean_absolute_error: 2.3633\n",
            "Epoch 92/100\n",
            " - 2s - loss: 4.3728 - mean_absolute_error: 1.3628 - val_loss: 12.4433 - val_mean_absolute_error: 2.5525\n",
            "Epoch 93/100\n",
            " - 2s - loss: 4.6399 - mean_absolute_error: 1.3828 - val_loss: 11.8314 - val_mean_absolute_error: 2.4628\n",
            "Epoch 94/100\n",
            " - 2s - loss: 3.9350 - mean_absolute_error: 1.3771 - val_loss: 11.4042 - val_mean_absolute_error: 2.3775\n",
            "Epoch 95/100\n",
            " - 2s - loss: 4.2678 - mean_absolute_error: 1.3463 - val_loss: 11.9356 - val_mean_absolute_error: 2.4809\n",
            "Epoch 96/100\n",
            " - 2s - loss: 4.1779 - mean_absolute_error: 1.3287 - val_loss: 12.2510 - val_mean_absolute_error: 2.5329\n",
            "Epoch 97/100\n",
            " - 2s - loss: 4.4609 - mean_absolute_error: 1.2997 - val_loss: 11.7582 - val_mean_absolute_error: 2.4008\n",
            "Epoch 98/100\n",
            " - 2s - loss: 4.3659 - mean_absolute_error: 1.2864 - val_loss: 11.5878 - val_mean_absolute_error: 2.3895\n",
            "Epoch 99/100\n",
            " - 2s - loss: 3.9708 - mean_absolute_error: 1.3014 - val_loss: 13.4579 - val_mean_absolute_error: 2.6320\n",
            "Epoch 100/100\n",
            " - 2s - loss: 4.0236 - mean_absolute_error: 1.2846 - val_loss: 12.0602 - val_mean_absolute_error: 2.4108\n"
          ],
          "name": "stdout"
        }
      ]
    },
    {
      "metadata": {
        "id": "ljFeDKWAwerA",
        "colab_type": "code",
        "colab": {}
      },
      "cell_type": "code",
      "source": [
        ""
      ],
      "execution_count": 0,
      "outputs": []
    },
    {
      "metadata": {
        "id": "cRoPNiaGw81C",
        "colab_type": "code",
        "colab": {
          "base_uri": "https://localhost:8080/",
          "height": 34
        },
        "outputId": "00653bf1-eda3-4423-8958-1f11863a65cf"
      },
      "cell_type": "code",
      "source": [
        "import tensorflow as tf\n",
        "device_name = tf.test.gpu_device_name()\n",
        "if device_name != '/device:GPU:0':\n",
        "  raise SystemError('GPU device not found')\n",
        "print('Found GPU at: {}'.format(device_name))"
      ],
      "execution_count": 14,
      "outputs": [
        {
          "output_type": "stream",
          "text": [
            "Found GPU at: /device:GPU:0\n"
          ],
          "name": "stdout"
        }
      ]
    },
    {
      "metadata": {
        "id": "Nzf1pRY8w_mY",
        "colab_type": "code",
        "colab": {
          "base_uri": "https://localhost:8080/",
          "height": 138
        },
        "outputId": "7e6c7aca-11e6-48d7-cded-3f502ead26b1"
      },
      "cell_type": "code",
      "source": [
        "import tensorflow as tf\n",
        "import timeit\n",
        "\n",
        "# See https://www.tensorflow.org/tutorials/using_gpu#allowing_gpu_memory_growth\n",
        "config = tf.ConfigProto()\n",
        "config.gpu_options.allow_growth = True\n",
        "\n",
        "with tf.device('/cpu:0'):\n",
        "  random_image_cpu = tf.random_normal((100, 100, 100, 3))\n",
        "  net_cpu = tf.layers.conv2d(random_image_cpu, 32, 7)\n",
        "  net_cpu = tf.reduce_sum(net_cpu)\n",
        "\n",
        "with tf.device('/gpu:0'):\n",
        "  random_image_gpu = tf.random_normal((100, 100, 100, 3))\n",
        "  net_gpu = tf.layers.conv2d(random_image_gpu, 32, 7)\n",
        "  net_gpu = tf.reduce_sum(net_gpu)\n",
        "\n",
        "sess = tf.Session(config=config)\n",
        "\n",
        "# Test execution once to detect errors early.\n",
        "try:\n",
        "  sess.run(tf.global_variables_initializer())\n",
        "except tf.errors.InvalidArgumentError:\n",
        "  print(\n",
        "      '\\n\\nThis error most likely means that this notebook is not '\n",
        "      'configured to use a GPU.  Change this in Notebook Settings via the '\n",
        "      'command palette (cmd/ctrl-shift-P) or the Edit menu.\\n\\n')\n",
        "  raise\n",
        "\n",
        "def cpu():\n",
        "  sess.run(net_cpu)\n",
        "  \n",
        "def gpu():\n",
        "  sess.run(net_gpu)\n",
        "  \n",
        "# Runs the op several times.\n",
        "print('Time (s) to convolve 32x7x7x3 filter over random 100x100x100x3 images '\n",
        "      '(batch x height x width x channel). Sum of ten runs.')\n",
        "print('CPU (s):')\n",
        "cpu_time = timeit.timeit('cpu()', number=10, setup=\"from __main__ import cpu\")\n",
        "print(cpu_time)\n",
        "print('GPU (s):')\n",
        "gpu_time = timeit.timeit('gpu()', number=10, setup=\"from __main__ import gpu\")\n",
        "print(gpu_time)\n",
        "print('GPU speedup over CPU: {}x'.format(int(cpu_time/gpu_time)))\n",
        "\n",
        "sess.close()"
      ],
      "execution_count": 16,
      "outputs": [
        {
          "output_type": "stream",
          "text": [
            "Time (s) to convolve 32x7x7x3 filter over random 100x100x100x3 images (batch x height x width x channel). Sum of ten runs.\n",
            "CPU (s):\n",
            "8.594701675999886\n",
            "GPU (s):\n",
            "0.19023475400013012\n",
            "GPU speedup over CPU: 45x\n"
          ],
          "name": "stdout"
        }
      ]
    },
    {
      "metadata": {
        "id": "iuWDAkIGzuNB",
        "colab_type": "code",
        "colab": {
          "base_uri": "https://localhost:8080/",
          "height": 34
        },
        "outputId": "874544c9-51f9-454f-80f7-b649b72c8d15"
      },
      "cell_type": "code",
      "source": [
        "all_scores"
      ],
      "execution_count": 17,
      "outputs": [
        {
          "output_type": "execute_result",
          "data": {
            "text/plain": [
              "[2.0581326413862775, 2.2001309324019025, 2.8750618802438868, 2.410775157484678]"
            ]
          },
          "metadata": {
            "tags": []
          },
          "execution_count": 17
        }
      ]
    },
    {
      "metadata": {
        "id": "T7RDGUFZ48zk",
        "colab_type": "code",
        "colab": {
          "base_uri": "https://localhost:8080/",
          "height": 34
        },
        "outputId": "1ce53e12-38fe-4304-a315-69a2c910dbb5"
      },
      "cell_type": "code",
      "source": [
        "np.mean(all_scores)"
      ],
      "execution_count": 18,
      "outputs": [
        {
          "output_type": "execute_result",
          "data": {
            "text/plain": [
              "2.386025152879186"
            ]
          },
          "metadata": {
            "tags": []
          },
          "execution_count": 18
        }
      ]
    },
    {
      "metadata": {
        "id": "VVrWgwON5BYK",
        "colab_type": "code",
        "colab": {
          "base_uri": "https://localhost:8080/",
          "height": 84
        },
        "outputId": "4d81002a-96a5-4917-ddfb-95e3a04dad3a"
      },
      "cell_type": "code",
      "source": [
        "num_epochs=500\n",
        "all_mae_histories=[]\n",
        "for i in range(k):\n",
        "    print('processing fold #', i)\n",
        "    val_data = train_data[i * num_val_samples: (i + 1) * num_val_samples]    \n",
        "    val_targets = train_labels[i * num_val_samples: (i + 1) * num_val_samples]\n",
        "    partial_train_data = np.concatenate(                                     \n",
        "        [train_data[:i * num_val_samples],\n",
        "         train_data[(i + 1) * num_val_samples:]],\n",
        "        axis=0)\n",
        "    partial_train_targets = np.concatenate(\n",
        "        [train_labels[:i * num_val_samples],\n",
        "         train_labels[(i + 1) * num_val_samples:]],\n",
        "        axis=0)\n",
        "\n",
        "    model = build_model()                                                    \n",
        "    history = model.fit(partial_train_data, partial_train_targets,           \n",
        "                        validation_data=(val_data, val_targets),\n",
        "                        epochs=num_epochs, batch_size=1, verbose=0)\n",
        "    mae_history = history.history['val_mean_absolute_error']\n",
        "    all_mae_histories.append(mae_history)"
      ],
      "execution_count": 20,
      "outputs": [
        {
          "output_type": "stream",
          "text": [
            "processing fold # 0\n",
            "processing fold # 1\n",
            "processing fold # 2\n",
            "processing fold # 3\n"
          ],
          "name": "stdout"
        }
      ]
    },
    {
      "metadata": {
        "id": "wu4_1_Fl5pLi",
        "colab_type": "code",
        "colab": {
          "base_uri": "https://localhost:8080/",
          "height": 361
        },
        "outputId": "9537e7c8-2d71-45c6-b747-cdd81b231e39"
      },
      "cell_type": "code",
      "source": [
        "average_mae_history = [\n",
        "    np.mean([x[i] for x in all_mae_histories]) for i in range(num_epochs)]\n",
        "\n",
        "import matplotlib.pyplot as plt\n",
        "\n",
        "plt.plot(range(1, len(average_mae_history) + 1), average_mae_history)\n",
        "plt.xlabel('Epochs')\n",
        "plt.ylabel('Validation MAE')\n",
        "plt.show()"
      ],
      "execution_count": 21,
      "outputs": [
        {
          "output_type": "display_data",
          "data": {
            "image/png": "[encoded data removed]",
            "text/plain": [
              "<matplotlib.figure.Figure at 0x7ffb3c7693c8>"
            ]
          },
          "metadata": {
            "tags": []
          }
        }
      ]
    },
    {
      "metadata": {
        "id": "EUtrCCEPEP0U",
        "colab_type": "code",
        "colab": {
          "base_uri": "https://localhost:8080/",
          "height": 361
        },
        "outputId": "101ca062-e11a-4e03-c5b8-a532b07a5641"
      },
      "cell_type": "code",
      "source": [
        "def smooth_curve(points, factor=0.9):\n",
        "  smoothed_points = []\n",
        "  for point in points:\n",
        "    if smoothed_points:\n",
        "      previous = smoothed_points[-1]\n",
        "      smoothed_points.append(previous * factor + point * (1 - factor))\n",
        "    else:\n",
        "      smoothed_points.append(point)\n",
        "  return smoothed_points\n",
        "\n",
        "smooth_mae_history = smooth_curve(average_mae_history[10:])\n",
        "\n",
        "plt.plot(range(1, len(smooth_mae_history) + 1), smooth_mae_history)\n",
        "plt.xlabel('Epochs')\n",
        "plt.ylabel('Validation MAE')\n",
        "plt.show()"
      ],
      "execution_count": 22,
      "outputs": [
        {
          "output_type": "display_data",
          "data": {
            "image/png": "[encoded data removed]",
            "text/plain": [
              "<matplotlib.figure.Figure at 0x7ffb19d82a90>"
            ]
          },
          "metadata": {
            "tags": []
          }
        }
      ]
    },
    {
      "metadata": {
        "id": "RKkNTYR3ETxG",
        "colab_type": "code",
        "colab": {
          "base_uri": "https://localhost:8080/",
          "height": 34
        },
        "outputId": "83de182c-7463-42ce-80a6-25e31b540bee"
      },
      "cell_type": "code",
      "source": [
        "model = build_model()                                                     \n",
        "model.fit(train_data, train_labels,                                      \n",
        "          epochs=80, batch_size=16, verbose=0)\n",
        "test_mse_score, test_mae_score = model.evaluate(test_data, test_labels)"
      ],
      "execution_count": 23,
      "outputs": [
        {
          "output_type": "stream",
          "text": [
            "102/102 [==============================] - 0s 993us/step\n"
          ],
          "name": "stdout"
        }
      ]
    },
    {
      "metadata": {
        "id": "DC9sSwYoEV7G",
        "colab_type": "code",
        "colab": {
          "base_uri": "https://localhost:8080/",
          "height": 34
        },
        "outputId": "65e3e999-1656-4fab-8179-a97ef79aaed5"
      },
      "cell_type": "code",
      "source": [
        "test_mae_score"
      ],
      "execution_count": 24,
      "outputs": [
        {
          "output_type": "execute_result",
          "data": {
            "text/plain": [
              "2.6750271273594275"
            ]
          },
          "metadata": {
            "tags": []
          },
          "execution_count": 24
        }
      ]
    },
    {
      "metadata": {
        "id": "tpmJm3aXHSue",
        "colab_type": "code",
        "colab": {}
      },
      "cell_type": "code",
      "source": [
        ""
      ],
      "execution_count": 0,
      "outputs": []
    }
  ]
}