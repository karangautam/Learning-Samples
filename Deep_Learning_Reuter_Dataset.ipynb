{
  "nbformat": 4,
  "nbformat_minor": 0,
  "metadata": {
    "colab": {
      "name": "Deep Learning Reuter Dataset.ipynb",
      "version": "0.3.2",
      "provenance": [],
      "collapsed_sections": []
    },
    "kernelspec": {
      "name": "python3",
      "display_name": "Python 3"
    }
  },
  "cells": [
    {
      "cell_type": "markdown",
      "metadata": {
        "id": "view-in-github",
        "colab_type": "text"
      },
      "source": [
        "[View in Colaboratory](https://colab.research.google.com/github/karangautam/Learning-Samples/blob/master/Deep_Learning_Reuter_Dataset.ipynb)"
      ]
    },
    {
      "metadata": {
        "id": "szKZwDeEe1iR",
        "colab_type": "code",
        "colab": {
          "base_uri": "https://localhost:8080/",
          "height": 34
        },
        "outputId": "ecda2c13-5070-4993-a60a-032fe7a4228d"
      },
      "cell_type": "code",
      "source": [
        "from keras.datasets import reuters"
      ],
      "execution_count": 1,
      "outputs": [
        {
          "output_type": "stream",
          "text": [
            "Using TensorFlow backend.\n"
          ],
          "name": "stderr"
        }
      ]
    },
    {
      "metadata": {
        "id": "Rm9kjKy9fBYW",
        "colab_type": "code",
        "colab": {
          "base_uri": "https://localhost:8080/",
          "height": 51
        },
        "outputId": "5ecfe8b8-1c25-430c-e52f-cf20ed6d63f6"
      },
      "cell_type": "code",
      "source": [
        "(train_data,train_labels),(test_data,test_labels) = reuters.load_data(num_words=10000)"
      ],
      "execution_count": 2,
      "outputs": [
        {
          "output_type": "stream",
          "text": [
            "Downloading data from https://s3.amazonaws.com/text-datasets/reuters.npz\n",
            "2113536/2110848 [==============================] - 1s 1us/step\n"
          ],
          "name": "stdout"
        }
      ]
    },
    {
      "metadata": {
        "id": "l2BxpOLmfLAy",
        "colab_type": "code",
        "colab": {
          "base_uri": "https://localhost:8080/",
          "height": 51
        },
        "outputId": "da791465-a4ca-4e1b-eef0-949802459f59"
      },
      "cell_type": "code",
      "source": [
        "print(len(train_data))\n",
        "print(len(test_data))"
      ],
      "execution_count": 3,
      "outputs": [
        {
          "output_type": "stream",
          "text": [
            "8982\n",
            "2246\n"
          ],
          "name": "stdout"
        }
      ]
    },
    {
      "metadata": {
        "id": "MNBZaZ0sfaSo",
        "colab_type": "code",
        "colab": {
          "base_uri": "https://localhost:8080/",
          "height": 544
        },
        "outputId": "f3dccac8-ec02-4c5a-cd47-0e6c0a6c19e6"
      },
      "cell_type": "code",
      "source": [
        "train_data[10]"
      ],
      "execution_count": 4,
      "outputs": [
        {
          "output_type": "execute_result",
          "data": {
            "text/plain": [
              "[1,\n",
              " 245,\n",
              " 273,\n",
              " 207,\n",
              " 156,\n",
              " 53,\n",
              " 74,\n",
              " 160,\n",
              " 26,\n",
              " 14,\n",
              " 46,\n",
              " 296,\n",
              " 26,\n",
              " 39,\n",
              " 74,\n",
              " 2979,\n",
              " 3554,\n",
              " 14,\n",
              " 46,\n",
              " 4689,\n",
              " 4329,\n",
              " 86,\n",
              " 61,\n",
              " 3499,\n",
              " 4795,\n",
              " 14,\n",
              " 61,\n",
              " 451,\n",
              " 4329,\n",
              " 17,\n",
              " 12]"
            ]
          },
          "metadata": {
            "tags": []
          },
          "execution_count": 4
        }
      ]
    },
    {
      "metadata": {
        "id": "7eUa5Srefluc",
        "colab_type": "code",
        "colab": {
          "base_uri": "https://localhost:8080/",
          "height": 51
        },
        "outputId": "4c07c337-1fb9-4875-c4fc-3a227cbfbf94"
      },
      "cell_type": "code",
      "source": [
        "word_index = reuters.get_word_index()\n",
        "reverse_word_index = dict([(value, key) for (key, value) in word_index.items()])\n",
        "decoded_newswire = ' '.join([reverse_word_index.get(i - 3, '?') for i in\n",
        "    train_data[0]]) "
      ],
      "execution_count": 5,
      "outputs": [
        {
          "output_type": "stream",
          "text": [
            "Downloading data from https://s3.amazonaws.com/text-datasets/reuters_word_index.json\n",
            "557056/550378 [==============================] - 1s 2us/step\n"
          ],
          "name": "stdout"
        }
      ]
    },
    {
      "metadata": {
        "id": "3hVclrDUgkLW",
        "colab_type": "code",
        "colab": {
          "base_uri": "https://localhost:8080/",
          "height": 34
        },
        "outputId": "87d89f9d-83ab-4c72-95c7-286c9d757286"
      },
      "cell_type": "code",
      "source": [
        "train_labels[10]"
      ],
      "execution_count": 6,
      "outputs": [
        {
          "output_type": "execute_result",
          "data": {
            "text/plain": [
              "3"
            ]
          },
          "metadata": {
            "tags": []
          },
          "execution_count": 6
        }
      ]
    },
    {
      "metadata": {
        "id": "gPd2Ox__hM8S",
        "colab_type": "code",
        "colab": {}
      },
      "cell_type": "code",
      "source": [
        "import numpy as np"
      ],
      "execution_count": 0,
      "outputs": []
    },
    {
      "metadata": {
        "id": "nLm1C-l0aCJq",
        "colab_type": "code",
        "colab": {}
      },
      "cell_type": "code",
      "source": [
        "def vectorize_sequence(sequences,dimensions=10000):\n",
        "  results=np.zeros((len(sequences),dimensions))\n",
        "  for i, sequence in enumerate(sequences):\n",
        "    results[i,sequence]=1\n",
        "  return results\n"
      ],
      "execution_count": 0,
      "outputs": []
    },
    {
      "metadata": {
        "id": "Xh_e_2Seaoq1",
        "colab_type": "code",
        "colab": {}
      },
      "cell_type": "code",
      "source": [
        "x_train= vectorize_sequence(train_data)\n",
        "x_test = vectorize_sequence(test_data)"
      ],
      "execution_count": 0,
      "outputs": []
    },
    {
      "metadata": {
        "id": "XjpURkP5a2Cn",
        "colab_type": "code",
        "colab": {}
      },
      "cell_type": "code",
      "source": [
        "def to_one_hot(labels,dimensions=46):\n",
        "  results = np.zeros((len(labels),dimensions))\n",
        "  for i, sequence in enumerate(labels):\n",
        "    results[i,sequence] = 1\n",
        "  return results"
      ],
      "execution_count": 0,
      "outputs": []
    },
    {
      "metadata": {
        "id": "OQWQwp_1bh30",
        "colab_type": "code",
        "colab": {}
      },
      "cell_type": "code",
      "source": [
        "y_train = to_one_hot(train_labels)\n",
        "y_test = to_one_hot(test_labels)"
      ],
      "execution_count": 0,
      "outputs": []
    },
    {
      "metadata": {
        "id": "bjbjvm12bvmR",
        "colab_type": "code",
        "colab": {}
      },
      "cell_type": "code",
      "source": [
        "from keras.utils.np_utils import to_categorical\n",
        "one_hot_train_labels = to_categorical(train_labels)\n",
        "one_hot_test_labels = to_categorical(test_labels)"
      ],
      "execution_count": 0,
      "outputs": []
    },
    {
      "metadata": {
        "id": "uBajGS58cLax",
        "colab_type": "code",
        "colab": {}
      },
      "cell_type": "code",
      "source": [
        "from keras.models import Sequential\n",
        "from keras.layers import Dense\n",
        "\n",
        "model = Sequential()\n",
        "model.add(Dense(64,activation='relu',input_shape=(10000,)))\n",
        "model.add(Dense(64,activation='relu'))\n",
        "model.add(Dense(64,activation='relu'))\n",
        "model.add(Dense(46,activation='softmax'))"
      ],
      "execution_count": 0,
      "outputs": []
    },
    {
      "metadata": {
        "id": "lIWKx9Qfc-0b",
        "colab_type": "code",
        "colab": {}
      },
      "cell_type": "code",
      "source": [
        "model.compile(loss='categorical_crossentropy', optimizer='rmsprop', metrics=['accuracy'])"
      ],
      "execution_count": 0,
      "outputs": []
    },
    {
      "metadata": {
        "id": "Iy3fJASHdIys",
        "colab_type": "code",
        "colab": {}
      },
      "cell_type": "code",
      "source": [
        "x_val=x_train[:1000]\n",
        "partial_x_train=x_train[1000:]\n",
        "y_val = y_train[:1000]\n",
        "partial_y_train =y_train[1000:]"
      ],
      "execution_count": 0,
      "outputs": []
    },
    {
      "metadata": {
        "id": "MGt2Xp2Jd1ll",
        "colab_type": "code",
        "colab": {
          "base_uri": "https://localhost:8080/",
          "height": 734
        },
        "outputId": "d48c8383-43fc-4625-cd6a-3adedc239b75"
      },
      "cell_type": "code",
      "source": [
        "history = model.fit(partial_x_train,partial_y_train,epochs=20,batch_size=512,validation_data=(x_val,y_val))"
      ],
      "execution_count": 22,
      "outputs": [
        {
          "output_type": "stream",
          "text": [
            "Train on 7982 samples, validate on 1000 samples\n",
            "Epoch 1/20\n",
            "7982/7982 [==============================] - 1s 144us/step - loss: 2.6071 - acc: 0.4917 - val_loss: 1.6845 - val_acc: 0.6120\n",
            "Epoch 2/20\n",
            "7982/7982 [==============================] - 1s 122us/step - loss: 1.4366 - acc: 0.6853 - val_loss: 1.3055 - val_acc: 0.6910\n",
            "Epoch 3/20\n",
            "7982/7982 [==============================] - 1s 148us/step - loss: 1.0822 - acc: 0.7663 - val_loss: 1.1322 - val_acc: 0.7460\n",
            "Epoch 4/20\n",
            "7982/7982 [==============================] - 1s 148us/step - loss: 0.8702 - acc: 0.8066 - val_loss: 1.0504 - val_acc: 0.7710\n",
            "Epoch 5/20\n",
            "7982/7982 [==============================] - 1s 148us/step - loss: 0.6946 - acc: 0.8483 - val_loss: 0.9924 - val_acc: 0.7900\n",
            "Epoch 6/20\n",
            "7982/7982 [==============================] - 1s 145us/step - loss: 0.5628 - acc: 0.8746 - val_loss: 0.9633 - val_acc: 0.7870\n",
            "Epoch 7/20\n",
            "7982/7982 [==============================] - 1s 148us/step - loss: 0.4577 - acc: 0.8984 - val_loss: 0.9460 - val_acc: 0.8090\n",
            "Epoch 8/20\n",
            "7982/7982 [==============================] - 1s 147us/step - loss: 0.3720 - acc: 0.9207 - val_loss: 0.9560 - val_acc: 0.8070\n",
            "Epoch 9/20\n",
            "6144/7982 [======================>.......] - ETA: 0s - loss: 0.2927 - acc: 0.9385"
          ],
          "name": "stdout"
        },
        {
          "output_type": "stream",
          "text": [
            "7982/7982 [==============================] - 1s 144us/step - loss: 0.3020 - acc: 0.9355 - val_loss: 1.1865 - val_acc: 0.7530\n",
            "Epoch 10/20\n",
            "7982/7982 [==============================] - 1s 146us/step - loss: 0.2578 - acc: 0.9406 - val_loss: 0.9738 - val_acc: 0.8080\n",
            "Epoch 11/20\n",
            "7982/7982 [==============================] - 1s 146us/step - loss: 0.2236 - acc: 0.9468 - val_loss: 0.9713 - val_acc: 0.8190\n",
            "Epoch 12/20\n",
            "7982/7982 [==============================] - 1s 147us/step - loss: 0.1912 - acc: 0.9515 - val_loss: 1.0743 - val_acc: 0.7920\n",
            "Epoch 13/20\n",
            "7982/7982 [==============================] - 1s 146us/step - loss: 0.1803 - acc: 0.9528 - val_loss: 1.0669 - val_acc: 0.8030\n",
            "Epoch 14/20\n",
            "7982/7982 [==============================] - 1s 147us/step - loss: 0.1585 - acc: 0.9563 - val_loss: 1.0719 - val_acc: 0.8030\n",
            "Epoch 15/20\n",
            "7982/7982 [==============================] - 1s 144us/step - loss: 0.1500 - acc: 0.9563 - val_loss: 1.1108 - val_acc: 0.8040\n",
            "Epoch 16/20\n",
            "7982/7982 [==============================] - 1s 146us/step - loss: 0.1378 - acc: 0.9574 - val_loss: 1.1129 - val_acc: 0.8010\n",
            "Epoch 17/20\n",
            "7982/7982 [==============================] - 1s 144us/step - loss: 0.1338 - acc: 0.9575 - val_loss: 1.1299 - val_acc: 0.7990\n",
            "Epoch 18/20\n",
            "1024/7982 [==>...........................] - ETA: 0s - loss: 0.1437 - acc: 0.9531"
          ],
          "name": "stdout"
        },
        {
          "output_type": "stream",
          "text": [
            "7982/7982 [==============================] - 1s 146us/step - loss: 0.1303 - acc: 0.9568 - val_loss: 1.1479 - val_acc: 0.8060\n",
            "Epoch 19/20\n",
            "7982/7982 [==============================] - 1s 149us/step - loss: 0.1251 - acc: 0.9593 - val_loss: 1.1671 - val_acc: 0.8050\n",
            "Epoch 20/20\n",
            "7982/7982 [==============================] - 1s 147us/step - loss: 0.1238 - acc: 0.9580 - val_loss: 1.1849 - val_acc: 0.7990\n"
          ],
          "name": "stdout"
        }
      ]
    },
    {
      "metadata": {
        "id": "JqE-vxpGeFCE",
        "colab_type": "code",
        "colab": {}
      },
      "cell_type": "code",
      "source": [
        "import matplotlib.pyplot as plt"
      ],
      "execution_count": 0,
      "outputs": []
    },
    {
      "metadata": {
        "id": "bfKFzSq2eTzF",
        "colab_type": "code",
        "colab": {
          "base_uri": "https://localhost:8080/",
          "height": 376
        },
        "outputId": "7f4bece5-fca4-42f1-90b1-f558b1a96212"
      },
      "cell_type": "code",
      "source": [
        "loss= history.history['loss']\n",
        "val_loss = history.history['val_loss']\n",
        "\n",
        "epochs = range(1, len(loss) + 1)\n",
        "\n",
        "plt.plot(epochs,loss,'bo',label='Training Loss')\n",
        "plt.plot(epochs,val_loss,'b',label='Validation Loss')\n",
        "plt.xlabel('Epochs')\n",
        "plt.ylabel('Loss')\n",
        "\n",
        "plt.title('Validation Loss vs Training Loss')\n",
        "plt.legend()\n",
        "plt.show()"
      ],
      "execution_count": 24,
      "outputs": [
        {
          "output_type": "display_data",
          "data": {
            "image/png": "[encoded data removed]",
            "text/plain": [
              "<matplotlib.figure.Figure at 0x7f60f7f815c0>"
            ]
          },
          "metadata": {
            "tags": []
          }
        }
      ]
    },
    {
      "metadata": {
        "id": "KZxD6qm6fNTN",
        "colab_type": "code",
        "colab": {
          "base_uri": "https://localhost:8080/",
          "height": 376
        },
        "outputId": "2e7403ca-566a-4030-b65e-bf43000e86dd"
      },
      "cell_type": "code",
      "source": [
        "loss= history.history['acc']\n",
        "val_loss = history.history['val_acc']\n",
        "\n",
        "epochs = range(1, len(loss) + 1)\n",
        "\n",
        "plt.plot(epochs,loss,'bo',label='Training Accuracy')\n",
        "plt.plot(epochs,val_loss,'b',label='Validation Accuracy')\n",
        "plt.xlabel('Epochs')\n",
        "plt.ylabel('Accuracy')\n",
        "\n",
        "plt.title('Validation Accuracy vs Training Accuracy')\n",
        "plt.legend()\n",
        "plt.show()"
      ],
      "execution_count": 25,
      "outputs": [
        {
          "output_type": "display_data",
          "data": {
            "image/png": "[encoded data removed]",
            "text/plain": [
              "<matplotlib.figure.Figure at 0x7f60f82fc2b0>"
            ]
          },
          "metadata": {
            "tags": []
          }
        }
      ]
    },
    {
      "metadata": {
        "id": "GuDqpOS7fqIa",
        "colab_type": "code",
        "colab": {
          "base_uri": "https://localhost:8080/",
          "height": 377
        },
        "outputId": "117c8d32-8642-4d12-ce97-05bff0a757e0"
      },
      "cell_type": "code",
      "source": [
        "model =Sequential()\n",
        "model.add(Dense(64, activation='relu', input_shape=(10000,)))\n",
        "model.add(Dense(64, activation='relu'))\n",
        "model.add(Dense(64, activation='relu'))\n",
        "model.add(Dense(46, activation='softmax'))\n",
        "\n",
        "model.compile(optimizer='rmsprop',\n",
        "              loss='categorical_crossentropy',\n",
        "              metrics=['accuracy'])\n",
        "model.fit(partial_x_train,\n",
        "          partial_y_train,\n",
        "          epochs=9,\n",
        "          batch_size=512,\n",
        "          validation_data=(x_val, y_val))\n",
        "results = model.evaluate(x_test, one_hot_test_labels)"
      ],
      "execution_count": 27,
      "outputs": [
        {
          "output_type": "stream",
          "text": [
            "Train on 7982 samples, validate on 1000 samples\n",
            "Epoch 1/9\n",
            "7982/7982 [==============================] - 1s 134us/step - loss: 2.4720 - acc: 0.4990 - val_loss: 1.6280 - val_acc: 0.6250\n",
            "Epoch 2/9\n",
            "7982/7982 [==============================] - 1s 123us/step - loss: 1.3973 - acc: 0.6892 - val_loss: 1.3111 - val_acc: 0.6990\n",
            "Epoch 3/9\n",
            "7982/7982 [==============================] - 1s 139us/step - loss: 1.0649 - acc: 0.7603 - val_loss: 1.1367 - val_acc: 0.7520\n",
            "Epoch 4/9\n",
            "7982/7982 [==============================] - 1s 139us/step - loss: 0.8301 - acc: 0.8193 - val_loss: 1.0201 - val_acc: 0.7860\n",
            "Epoch 5/9\n",
            "7982/7982 [==============================] - 1s 141us/step - loss: 0.6595 - acc: 0.8543 - val_loss: 0.9816 - val_acc: 0.7940\n",
            "Epoch 6/9\n",
            "7982/7982 [==============================] - 1s 140us/step - loss: 0.5131 - acc: 0.8886 - val_loss: 0.9839 - val_acc: 0.8020\n",
            "Epoch 7/9\n",
            "7982/7982 [==============================] - 1s 141us/step - loss: 0.4036 - acc: 0.9153 - val_loss: 0.9984 - val_acc: 0.7920\n",
            "Epoch 8/9\n",
            "7982/7982 [==============================] - 1s 143us/step - loss: 0.3325 - acc: 0.9286 - val_loss: 0.9309 - val_acc: 0.8130\n",
            "Epoch 9/9\n",
            "3584/7982 [============>.................] - ETA: 0s - loss: 0.2615 - acc: 0.9461"
          ],
          "name": "stdout"
        },
        {
          "output_type": "stream",
          "text": [
            "7982/7982 [==============================] - 1s 140us/step - loss: 0.2735 - acc: 0.9397 - val_loss: 1.0632 - val_acc: 0.7770\n",
            "2246/2246 [==============================] - 0s 90us/step\n"
          ],
          "name": "stdout"
        }
      ]
    },
    {
      "metadata": {
        "id": "3NKWXS7jf46M",
        "colab_type": "code",
        "colab": {
          "base_uri": "https://localhost:8080/",
          "height": 34
        },
        "outputId": "ceda7fd8-a330-4305-feba-025972f60a8d"
      },
      "cell_type": "code",
      "source": [
        "results"
      ],
      "execution_count": 28,
      "outputs": [
        {
          "output_type": "execute_result",
          "data": {
            "text/plain": [
              "[1.1488208590292655, 0.7582368655918118]"
            ]
          },
          "metadata": {
            "tags": []
          },
          "execution_count": 28
        }
      ]
    },
    {
      "metadata": {
        "id": "OdlWUSZagJ1k",
        "colab_type": "code",
        "colab": {}
      },
      "cell_type": "code",
      "source": [
        ""
      ],
      "execution_count": 0,
      "outputs": []
    }
  ]
}